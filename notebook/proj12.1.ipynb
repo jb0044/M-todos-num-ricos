{
 "cells": [
  {
   "cell_type": "markdown",
   "metadata": {},
   "source": [
    "¡ Hola Jorge! Como te va?\n",
    "\n",
    "Mi nombre es Facundo Lozano! Ya he tenido el agrado de revisar otros proyectos tuyos, nuevamente seré tu revisor en este proyecto.\n",
    "\n",
    "Como siempre, a continuación un poco sobre la modalidad de revisión que usaremos:\n",
    "\n",
    "Cuando enccuentro un error por primera vez, simplemente lo señalaré, te dejaré encontrarlo y arreglarlo tú cuenta. Además, a lo largo del texto iré haciendo algunas observaciones sobre mejora en tu código y también haré comentarios sobre tus percepciones sobre el tema. Pero si aún no puedes realizar esta tarea, te daré una pista más precisa en la próxima iteración y también algunos ejemplos prácticos. Estaré abierto a comentarios y discusiones sobre el tema.\n",
    "\n",
    "Encontrará mis comentarios a continuación: no los mueva, modifique ni elimine.\n",
    "\n",
    "Puedes encontrar mis comentarios en cuadros verdes, amarillos o rojos como este:\n",
    "\n",
    "\n",
    "<div class=\"alert alert-block alert-success\">\n",
    "<b>Comentario del revisor.</b> <a class=\"tocSkip\"></a>\n",
    "\n",
    "Exito. Todo se ha hecho de forma exitosa.\n",
    "</div>\n",
    "\n",
    "<div class=\"alert alert-block alert-warning\">\n",
    "<b>Comentario del revisor.</b> <a class=\"tocSkip\"></a>\n",
    "\n",
    "Observación. Algunas recomendaciones.\n",
    "</div>\n",
    "\n",
    "<div class=\"alert alert-block alert-danger\">\n",
    "\n",
    "<b>Comentario del revisor.</b> <a class=\"tocSkip\"></a>\n",
    "\n",
    "Necesita arreglos. Este apartado necesita algunas correcciones. El trabajo no puede ser aceptado con comentarios rojos. \n",
    "</div>\n",
    "\n",
    "Puedes responder utilizando esto:\n",
    "\n",
    "<div class=\"alert alert-block alert-info\">\n",
    "<b>Respuesta de estudiante.</b> <a class=\"tocSkip\"></a>\n",
    "</div>"
   ]
  },
  {
   "cell_type": "markdown",
   "metadata": {},
   "source": [
    "# Descripción del proyecto\n",
    "\n",
    "Rusty Bargain es un servicio de venta de coches de segunda mano que está desarrollando una app para atraer a nuevos clientes. Gracias a esa app, puedes averiguar rápidamente el valor de mercado de tu coche. Tienes acceso al historial, especificaciones técnicas, versiones de equipamiento y precios. Tienes que crear un modelo que determine el valor de mercado.\n",
    "\n",
    "A Rusty Bargain le interesa:\n",
    "\n",
    "    la calidad de la predicción\n",
    "    la velocidad de la predicción\n",
    "    el tiempo requerido para el entrenamiento\n",
    "\n",
    "Instrucciones del proyecto\n",
    "\n",
    "    1. Descarga y examina los datos.\n",
    "    2. Entrena diferentes modelos con varios hiperparámetros (debes hacer al menos dos modelos diferentes, pero más es mejor. Recuerda, varias implementaciones de potenciación del gradiente no cuentan como modelos diferentes). El punto principal de este paso es comparar métodos de potenciación del gradiente con bosque aleatorio, árbol de decisión y regresión lineal.\n",
    "    3. Analiza la velocidad y la calidad de los modelos.\n",
    "\n",
    "Observaciones:\n",
    "\n",
    "     -Utiliza la métrica RECM para evaluar los modelos.\n",
    "     -La regresión lineal no es muy buena para el ajuste de hiperparámetros, pero es perfecta para hacer una prueba de cordura de otros métodos. Si la potenciación del gradiente funciona peor que la regresión lineal, definitivamente algo salió mal.\n",
    "    -Aprende por tu propia cuenta sobre la librería LightGBM y sus herramientas para crear modelos de potenciación del gradiente (gradient boosting).\n",
    "    -Idealmente, tu proyecto debe tener regresión lineal para una prueba de cordura, un algoritmo basado en árbol con ajuste de hiperparámetros (preferiblemente, bosque aleatorio), LightGBM con ajuste de hiperparámetros (prueba un par de conjuntos), y CatBoost y XGBoost con ajuste de hiperparámetros (opcional).\n",
    "    -Toma nota de la codificación de características categóricas para algoritmos simples. LightGBM y CatBoost tienen su implementación, pero XGBoost requiere OHE.\n",
    "    -Puedes usar un comando especial para encontrar el tiempo de ejecución del código de celda en Jupyter Notebook. Encuentra ese comando.\n",
    "    -Dado que el entrenamiento de un modelo de potenciación del gradiente puede llevar mucho tiempo, cambia solo algunos parámetros del modelo.\n",
    "\n",
    "    -Si Jupyter Notebook deja de funcionar, elimina las variables excesivas por medio del operador del:\n",
    "\n",
    "      del features_train\n",
    "      "
   ]
  },
  {
   "cell_type": "markdown",
   "metadata": {},
   "source": [
    "<div class=\"alert alert-block alert-success\">\n",
    "<b>Review General. (Iteración 1) </b> <a class=\"tocSkip\"></a>\n",
    "\n",
    "Jorge, como siempre, me tomo este tiempo al inicio del proyecto para comentar mis apreciaciones generales de esta primera iteración de la entrega. \n",
    "\n",
    "Siempre me gusta comenzar dando la bienvenida al mundo de los datos a los estudiantes, te deseo lo mejor y espero que consigas lograr tus objetivos. Personalmente siempre me gusta brindar el siguiente consejo, \"Está bien equivocarse, es normal y es lo mejor que te puede pasar. Aprendemos de los errores y eso te hará mejor programando ya que podrás descubrir cosas a medida que avances y son estas cosas las que te darán esa experiencia para ser mejor como Data Scientist\"\n",
    "    \n",
    "Ahora si yendo a esta notebook.  Felicitaciones Jorge, has hecho un gran trabajo a lo largo del proyecto, quiero destacar tu gran manejo tanto de python como de las herramientas ML para el modelado, solo hubo unos pequeños puntos importantes al proyecto que nos hemos olvidado pero que estoy seguro que podrás corregir para nuestra próxima iteración! :)\n",
    "\n",
    "Éxitos y saludos Jorge!"
   ]
  },
  {
   "cell_type": "markdown",
   "metadata": {},
   "source": [
    "## Descarga y examina los datos."
   ]
  },
  {
   "cell_type": "code",
   "execution_count": 1,
   "metadata": {},
   "outputs": [],
   "source": [
    "import numpy as np\n",
    "import pandas as pd\n",
    "\n",
    "from sklearn.model_selection import train_test_split\n",
    "from sklearn.linear_model import LinearRegression\n",
    "from sklearn.metrics import r2_score\n",
    "from sklearn.metrics import mean_squared_error\n",
    "from sklearn.tree import DecisionTreeRegressor\n",
    "from sklearn.ensemble import RandomForestRegressor\n",
    "import lightgbm as lgb\n",
    "import time\n",
    "from sklearn.model_selection import GridSearchCV"
   ]
  },
  {
   "cell_type": "code",
   "execution_count": 2,
   "metadata": {},
   "outputs": [],
   "source": [
    "#Carga de datos\n",
    "df = pd.read_csv('/datasets/car_data.csv')"
   ]
  },
  {
   "cell_type": "markdown",
   "metadata": {},
   "source": [
    "Renombramos las columnas para que el código se vea más coherente con su estilo."
   ]
  },
  {
   "cell_type": "code",
   "execution_count": 3,
   "metadata": {},
   "outputs": [],
   "source": [
    "df = df.rename(columns={'DateCrawled': 'date_crawled', 'Price': 'price', 'VehicleType': 'vehicle_type', 'RegistrationYear': 'registration_year', 'Gearbox': 'gearbox', 'Power': 'power', 'Model': 'model', 'Mileage': 'mileage', 'RegistrationMonth': 'registration_month', 'FuelType': 'fuel_type', 'Brand': 'brand', 'NotRepaired': 'not_repaired', 'DateCreated': 'date_created', 'NumberOfPictures': 'number_of_pictures', 'PostalCode': 'postal_code', 'LastSeen': 'last_seen'})"
   ]
  },
  {
   "cell_type": "code",
   "execution_count": 4,
   "metadata": {},
   "outputs": [
    {
     "data": {
      "text/html": [
       "<div>\n",
       "<style scoped>\n",
       "    .dataframe tbody tr th:only-of-type {\n",
       "        vertical-align: middle;\n",
       "    }\n",
       "\n",
       "    .dataframe tbody tr th {\n",
       "        vertical-align: top;\n",
       "    }\n",
       "\n",
       "    .dataframe thead th {\n",
       "        text-align: right;\n",
       "    }\n",
       "</style>\n",
       "<table border=\"1\" class=\"dataframe\">\n",
       "  <thead>\n",
       "    <tr style=\"text-align: right;\">\n",
       "      <th></th>\n",
       "      <th>date_crawled</th>\n",
       "      <th>price</th>\n",
       "      <th>vehicle_type</th>\n",
       "      <th>registration_year</th>\n",
       "      <th>gearbox</th>\n",
       "      <th>power</th>\n",
       "      <th>model</th>\n",
       "      <th>mileage</th>\n",
       "      <th>registration_month</th>\n",
       "      <th>fuel_type</th>\n",
       "      <th>brand</th>\n",
       "      <th>not_repaired</th>\n",
       "      <th>date_created</th>\n",
       "      <th>number_of_pictures</th>\n",
       "      <th>postal_code</th>\n",
       "      <th>last_seen</th>\n",
       "    </tr>\n",
       "  </thead>\n",
       "  <tbody>\n",
       "    <tr>\n",
       "      <th>79071</th>\n",
       "      <td>19/03/2016 11:45</td>\n",
       "      <td>13200</td>\n",
       "      <td>bus</td>\n",
       "      <td>2014</td>\n",
       "      <td>manual</td>\n",
       "      <td>107</td>\n",
       "      <td>lodgy</td>\n",
       "      <td>90000</td>\n",
       "      <td>3</td>\n",
       "      <td>gasoline</td>\n",
       "      <td>dacia</td>\n",
       "      <td>no</td>\n",
       "      <td>19/03/2016 00:00</td>\n",
       "      <td>0</td>\n",
       "      <td>91807</td>\n",
       "      <td>22/03/2016 20:16</td>\n",
       "    </tr>\n",
       "    <tr>\n",
       "      <th>229690</th>\n",
       "      <td>19/03/2016 02:42</td>\n",
       "      <td>9990</td>\n",
       "      <td>wagon</td>\n",
       "      <td>2010</td>\n",
       "      <td>manual</td>\n",
       "      <td>109</td>\n",
       "      <td>focus</td>\n",
       "      <td>80000</td>\n",
       "      <td>9</td>\n",
       "      <td>gasoline</td>\n",
       "      <td>ford</td>\n",
       "      <td>no</td>\n",
       "      <td>18/03/2016 00:00</td>\n",
       "      <td>0</td>\n",
       "      <td>53797</td>\n",
       "      <td>06/04/2016 02:15</td>\n",
       "    </tr>\n",
       "    <tr>\n",
       "      <th>112928</th>\n",
       "      <td>16/03/2016 16:45</td>\n",
       "      <td>3000</td>\n",
       "      <td>sedan</td>\n",
       "      <td>1991</td>\n",
       "      <td>manual</td>\n",
       "      <td>150</td>\n",
       "      <td>5er</td>\n",
       "      <td>150000</td>\n",
       "      <td>10</td>\n",
       "      <td>petrol</td>\n",
       "      <td>bmw</td>\n",
       "      <td>no</td>\n",
       "      <td>16/03/2016 00:00</td>\n",
       "      <td>0</td>\n",
       "      <td>61184</td>\n",
       "      <td>05/04/2016 22:16</td>\n",
       "    </tr>\n",
       "    <tr>\n",
       "      <th>237495</th>\n",
       "      <td>12/03/2016 18:47</td>\n",
       "      <td>8250</td>\n",
       "      <td>small</td>\n",
       "      <td>2012</td>\n",
       "      <td>auto</td>\n",
       "      <td>54</td>\n",
       "      <td>fortwo</td>\n",
       "      <td>60000</td>\n",
       "      <td>7</td>\n",
       "      <td>gasoline</td>\n",
       "      <td>smart</td>\n",
       "      <td>no</td>\n",
       "      <td>12/03/2016 00:00</td>\n",
       "      <td>0</td>\n",
       "      <td>28816</td>\n",
       "      <td>07/04/2016 12:45</td>\n",
       "    </tr>\n",
       "    <tr>\n",
       "      <th>196287</th>\n",
       "      <td>22/03/2016 19:39</td>\n",
       "      <td>1400</td>\n",
       "      <td>NaN</td>\n",
       "      <td>2005</td>\n",
       "      <td>manual</td>\n",
       "      <td>0</td>\n",
       "      <td>3_reihe</td>\n",
       "      <td>150000</td>\n",
       "      <td>0</td>\n",
       "      <td>gasoline</td>\n",
       "      <td>peugeot</td>\n",
       "      <td>yes</td>\n",
       "      <td>22/03/2016 00:00</td>\n",
       "      <td>0</td>\n",
       "      <td>48431</td>\n",
       "      <td>22/03/2016 19:39</td>\n",
       "    </tr>\n",
       "    <tr>\n",
       "      <th>55623</th>\n",
       "      <td>13/03/2016 15:22</td>\n",
       "      <td>17900</td>\n",
       "      <td>suv</td>\n",
       "      <td>2014</td>\n",
       "      <td>manual</td>\n",
       "      <td>160</td>\n",
       "      <td>yeti</td>\n",
       "      <td>10000</td>\n",
       "      <td>5</td>\n",
       "      <td>petrol</td>\n",
       "      <td>skoda</td>\n",
       "      <td>no</td>\n",
       "      <td>13/03/2016 00:00</td>\n",
       "      <td>0</td>\n",
       "      <td>65232</td>\n",
       "      <td>14/03/2016 19:11</td>\n",
       "    </tr>\n",
       "    <tr>\n",
       "      <th>123185</th>\n",
       "      <td>29/03/2016 12:55</td>\n",
       "      <td>5000</td>\n",
       "      <td>sedan</td>\n",
       "      <td>2009</td>\n",
       "      <td>manual</td>\n",
       "      <td>125</td>\n",
       "      <td>focus</td>\n",
       "      <td>150000</td>\n",
       "      <td>3</td>\n",
       "      <td>petrol</td>\n",
       "      <td>ford</td>\n",
       "      <td>yes</td>\n",
       "      <td>29/03/2016 00:00</td>\n",
       "      <td>0</td>\n",
       "      <td>50825</td>\n",
       "      <td>31/03/2016 05:17</td>\n",
       "    </tr>\n",
       "    <tr>\n",
       "      <th>9971</th>\n",
       "      <td>07/03/2016 20:52</td>\n",
       "      <td>19990</td>\n",
       "      <td>suv</td>\n",
       "      <td>2014</td>\n",
       "      <td>manual</td>\n",
       "      <td>105</td>\n",
       "      <td>duster</td>\n",
       "      <td>30000</td>\n",
       "      <td>8</td>\n",
       "      <td>lpg</td>\n",
       "      <td>dacia</td>\n",
       "      <td>NaN</td>\n",
       "      <td>07/03/2016 00:00</td>\n",
       "      <td>0</td>\n",
       "      <td>25436</td>\n",
       "      <td>05/04/2016 17:45</td>\n",
       "    </tr>\n",
       "    <tr>\n",
       "      <th>320100</th>\n",
       "      <td>16/03/2016 07:54</td>\n",
       "      <td>8400</td>\n",
       "      <td>NaN</td>\n",
       "      <td>2017</td>\n",
       "      <td>manual</td>\n",
       "      <td>140</td>\n",
       "      <td>altea</td>\n",
       "      <td>80000</td>\n",
       "      <td>2</td>\n",
       "      <td>gasoline</td>\n",
       "      <td>seat</td>\n",
       "      <td>NaN</td>\n",
       "      <td>16/03/2016 00:00</td>\n",
       "      <td>0</td>\n",
       "      <td>59581</td>\n",
       "      <td>19/03/2016 05:15</td>\n",
       "    </tr>\n",
       "    <tr>\n",
       "      <th>353829</th>\n",
       "      <td>29/03/2016 19:55</td>\n",
       "      <td>9950</td>\n",
       "      <td>convertible</td>\n",
       "      <td>2007</td>\n",
       "      <td>manual</td>\n",
       "      <td>90</td>\n",
       "      <td>one</td>\n",
       "      <td>70000</td>\n",
       "      <td>8</td>\n",
       "      <td>petrol</td>\n",
       "      <td>mini</td>\n",
       "      <td>no</td>\n",
       "      <td>29/03/2016 00:00</td>\n",
       "      <td>0</td>\n",
       "      <td>57482</td>\n",
       "      <td>06/04/2016 06:15</td>\n",
       "    </tr>\n",
       "  </tbody>\n",
       "</table>\n",
       "</div>"
      ],
      "text/plain": [
       "            date_crawled  price vehicle_type  registration_year gearbox  \\\n",
       "79071   19/03/2016 11:45  13200          bus               2014  manual   \n",
       "229690  19/03/2016 02:42   9990        wagon               2010  manual   \n",
       "112928  16/03/2016 16:45   3000        sedan               1991  manual   \n",
       "237495  12/03/2016 18:47   8250        small               2012    auto   \n",
       "196287  22/03/2016 19:39   1400          NaN               2005  manual   \n",
       "55623   13/03/2016 15:22  17900          suv               2014  manual   \n",
       "123185  29/03/2016 12:55   5000        sedan               2009  manual   \n",
       "9971    07/03/2016 20:52  19990          suv               2014  manual   \n",
       "320100  16/03/2016 07:54   8400          NaN               2017  manual   \n",
       "353829  29/03/2016 19:55   9950  convertible               2007  manual   \n",
       "\n",
       "        power    model  mileage  registration_month fuel_type    brand  \\\n",
       "79071     107    lodgy    90000                   3  gasoline    dacia   \n",
       "229690    109    focus    80000                   9  gasoline     ford   \n",
       "112928    150      5er   150000                  10    petrol      bmw   \n",
       "237495     54   fortwo    60000                   7  gasoline    smart   \n",
       "196287      0  3_reihe   150000                   0  gasoline  peugeot   \n",
       "55623     160     yeti    10000                   5    petrol    skoda   \n",
       "123185    125    focus   150000                   3    petrol     ford   \n",
       "9971      105   duster    30000                   8       lpg    dacia   \n",
       "320100    140    altea    80000                   2  gasoline     seat   \n",
       "353829     90      one    70000                   8    petrol     mini   \n",
       "\n",
       "       not_repaired      date_created  number_of_pictures  postal_code  \\\n",
       "79071            no  19/03/2016 00:00                   0        91807   \n",
       "229690           no  18/03/2016 00:00                   0        53797   \n",
       "112928           no  16/03/2016 00:00                   0        61184   \n",
       "237495           no  12/03/2016 00:00                   0        28816   \n",
       "196287          yes  22/03/2016 00:00                   0        48431   \n",
       "55623            no  13/03/2016 00:00                   0        65232   \n",
       "123185          yes  29/03/2016 00:00                   0        50825   \n",
       "9971            NaN  07/03/2016 00:00                   0        25436   \n",
       "320100          NaN  16/03/2016 00:00                   0        59581   \n",
       "353829           no  29/03/2016 00:00                   0        57482   \n",
       "\n",
       "               last_seen  \n",
       "79071   22/03/2016 20:16  \n",
       "229690  06/04/2016 02:15  \n",
       "112928  05/04/2016 22:16  \n",
       "237495  07/04/2016 12:45  \n",
       "196287  22/03/2016 19:39  \n",
       "55623   14/03/2016 19:11  \n",
       "123185  31/03/2016 05:17  \n",
       "9971    05/04/2016 17:45  \n",
       "320100  19/03/2016 05:15  \n",
       "353829  06/04/2016 06:15  "
      ]
     },
     "execution_count": 4,
     "metadata": {},
     "output_type": "execute_result"
    }
   ],
   "source": [
    "df.sample(10)"
   ]
  },
  {
   "cell_type": "code",
   "execution_count": 5,
   "metadata": {},
   "outputs": [
    {
     "name": "stdout",
     "output_type": "stream",
     "text": [
      "<class 'pandas.core.frame.DataFrame'>\n",
      "RangeIndex: 354369 entries, 0 to 354368\n",
      "Data columns (total 16 columns):\n",
      " #   Column              Non-Null Count   Dtype \n",
      "---  ------              --------------   ----- \n",
      " 0   date_crawled        354369 non-null  object\n",
      " 1   price               354369 non-null  int64 \n",
      " 2   vehicle_type        316879 non-null  object\n",
      " 3   registration_year   354369 non-null  int64 \n",
      " 4   gearbox             334536 non-null  object\n",
      " 5   power               354369 non-null  int64 \n",
      " 6   model               334664 non-null  object\n",
      " 7   mileage             354369 non-null  int64 \n",
      " 8   registration_month  354369 non-null  int64 \n",
      " 9   fuel_type           321474 non-null  object\n",
      " 10  brand               354369 non-null  object\n",
      " 11  not_repaired        283215 non-null  object\n",
      " 12  date_created        354369 non-null  object\n",
      " 13  number_of_pictures  354369 non-null  int64 \n",
      " 14  postal_code         354369 non-null  int64 \n",
      " 15  last_seen           354369 non-null  object\n",
      "dtypes: int64(7), object(9)\n",
      "memory usage: 43.3+ MB\n"
     ]
    }
   ],
   "source": [
    "df.info()"
   ]
  },
  {
   "cell_type": "markdown",
   "metadata": {},
   "source": [
    "Se detecta que hay valores ausentes en las columnas; 'vehicle_type', 'gearbox', 'model', 'fuel_type',  y 'not_repaired'.                                             "
   ]
  },
  {
   "cell_type": "code",
   "execution_count": 6,
   "metadata": {},
   "outputs": [
    {
     "data": {
      "text/html": [
       "<div>\n",
       "<style scoped>\n",
       "    .dataframe tbody tr th:only-of-type {\n",
       "        vertical-align: middle;\n",
       "    }\n",
       "\n",
       "    .dataframe tbody tr th {\n",
       "        vertical-align: top;\n",
       "    }\n",
       "\n",
       "    .dataframe thead th {\n",
       "        text-align: right;\n",
       "    }\n",
       "</style>\n",
       "<table border=\"1\" class=\"dataframe\">\n",
       "  <thead>\n",
       "    <tr style=\"text-align: right;\">\n",
       "      <th></th>\n",
       "      <th>price</th>\n",
       "      <th>registration_year</th>\n",
       "      <th>power</th>\n",
       "      <th>mileage</th>\n",
       "      <th>registration_month</th>\n",
       "      <th>number_of_pictures</th>\n",
       "      <th>postal_code</th>\n",
       "    </tr>\n",
       "  </thead>\n",
       "  <tbody>\n",
       "    <tr>\n",
       "      <th>count</th>\n",
       "      <td>354369.000000</td>\n",
       "      <td>354369.000000</td>\n",
       "      <td>354369.000000</td>\n",
       "      <td>354369.000000</td>\n",
       "      <td>354369.000000</td>\n",
       "      <td>354369.0</td>\n",
       "      <td>354369.000000</td>\n",
       "    </tr>\n",
       "    <tr>\n",
       "      <th>mean</th>\n",
       "      <td>4416.656776</td>\n",
       "      <td>2004.234448</td>\n",
       "      <td>110.094337</td>\n",
       "      <td>128211.172535</td>\n",
       "      <td>5.714645</td>\n",
       "      <td>0.0</td>\n",
       "      <td>50508.689087</td>\n",
       "    </tr>\n",
       "    <tr>\n",
       "      <th>std</th>\n",
       "      <td>4514.158514</td>\n",
       "      <td>90.227958</td>\n",
       "      <td>189.850405</td>\n",
       "      <td>37905.341530</td>\n",
       "      <td>3.726421</td>\n",
       "      <td>0.0</td>\n",
       "      <td>25783.096248</td>\n",
       "    </tr>\n",
       "    <tr>\n",
       "      <th>min</th>\n",
       "      <td>0.000000</td>\n",
       "      <td>1000.000000</td>\n",
       "      <td>0.000000</td>\n",
       "      <td>5000.000000</td>\n",
       "      <td>0.000000</td>\n",
       "      <td>0.0</td>\n",
       "      <td>1067.000000</td>\n",
       "    </tr>\n",
       "    <tr>\n",
       "      <th>25%</th>\n",
       "      <td>1050.000000</td>\n",
       "      <td>1999.000000</td>\n",
       "      <td>69.000000</td>\n",
       "      <td>125000.000000</td>\n",
       "      <td>3.000000</td>\n",
       "      <td>0.0</td>\n",
       "      <td>30165.000000</td>\n",
       "    </tr>\n",
       "    <tr>\n",
       "      <th>50%</th>\n",
       "      <td>2700.000000</td>\n",
       "      <td>2003.000000</td>\n",
       "      <td>105.000000</td>\n",
       "      <td>150000.000000</td>\n",
       "      <td>6.000000</td>\n",
       "      <td>0.0</td>\n",
       "      <td>49413.000000</td>\n",
       "    </tr>\n",
       "    <tr>\n",
       "      <th>75%</th>\n",
       "      <td>6400.000000</td>\n",
       "      <td>2008.000000</td>\n",
       "      <td>143.000000</td>\n",
       "      <td>150000.000000</td>\n",
       "      <td>9.000000</td>\n",
       "      <td>0.0</td>\n",
       "      <td>71083.000000</td>\n",
       "    </tr>\n",
       "    <tr>\n",
       "      <th>max</th>\n",
       "      <td>20000.000000</td>\n",
       "      <td>9999.000000</td>\n",
       "      <td>20000.000000</td>\n",
       "      <td>150000.000000</td>\n",
       "      <td>12.000000</td>\n",
       "      <td>0.0</td>\n",
       "      <td>99998.000000</td>\n",
       "    </tr>\n",
       "  </tbody>\n",
       "</table>\n",
       "</div>"
      ],
      "text/plain": [
       "               price  registration_year          power        mileage  \\\n",
       "count  354369.000000      354369.000000  354369.000000  354369.000000   \n",
       "mean     4416.656776        2004.234448     110.094337  128211.172535   \n",
       "std      4514.158514          90.227958     189.850405   37905.341530   \n",
       "min         0.000000        1000.000000       0.000000    5000.000000   \n",
       "25%      1050.000000        1999.000000      69.000000  125000.000000   \n",
       "50%      2700.000000        2003.000000     105.000000  150000.000000   \n",
       "75%      6400.000000        2008.000000     143.000000  150000.000000   \n",
       "max     20000.000000        9999.000000   20000.000000  150000.000000   \n",
       "\n",
       "       registration_month  number_of_pictures    postal_code  \n",
       "count       354369.000000            354369.0  354369.000000  \n",
       "mean             5.714645                 0.0   50508.689087  \n",
       "std              3.726421                 0.0   25783.096248  \n",
       "min              0.000000                 0.0    1067.000000  \n",
       "25%              3.000000                 0.0   30165.000000  \n",
       "50%              6.000000                 0.0   49413.000000  \n",
       "75%              9.000000                 0.0   71083.000000  \n",
       "max             12.000000                 0.0   99998.000000  "
      ]
     },
     "execution_count": 6,
     "metadata": {},
     "output_type": "execute_result"
    }
   ],
   "source": [
    "# ahora echa un vistazo a las estadísticas descriptivas de los datos.# ¿Se ve todo bien?\n",
    "df.describe()"
   ]
  },
  {
   "cell_type": "code",
   "execution_count": 7,
   "metadata": {},
   "outputs": [
    {
     "data": {
      "text/plain": [
       "(354369, 16)"
      ]
     },
     "execution_count": 7,
     "metadata": {},
     "output_type": "execute_result"
    }
   ],
   "source": [
    "df.shape"
   ]
  },
  {
   "cell_type": "code",
   "execution_count": 8,
   "metadata": {},
   "outputs": [
    {
     "data": {
      "text/html": [
       "<div>\n",
       "<style scoped>\n",
       "    .dataframe tbody tr th:only-of-type {\n",
       "        vertical-align: middle;\n",
       "    }\n",
       "\n",
       "    .dataframe tbody tr th {\n",
       "        vertical-align: top;\n",
       "    }\n",
       "\n",
       "    .dataframe thead th {\n",
       "        text-align: right;\n",
       "    }\n",
       "</style>\n",
       "<table border=\"1\" class=\"dataframe\">\n",
       "  <thead>\n",
       "    <tr style=\"text-align: right;\">\n",
       "      <th></th>\n",
       "      <th>date_crawled</th>\n",
       "      <th>price</th>\n",
       "      <th>vehicle_type</th>\n",
       "      <th>registration_year</th>\n",
       "      <th>gearbox</th>\n",
       "      <th>power</th>\n",
       "      <th>model</th>\n",
       "      <th>mileage</th>\n",
       "      <th>registration_month</th>\n",
       "      <th>fuel_type</th>\n",
       "      <th>brand</th>\n",
       "      <th>not_repaired</th>\n",
       "      <th>date_created</th>\n",
       "      <th>number_of_pictures</th>\n",
       "      <th>postal_code</th>\n",
       "      <th>last_seen</th>\n",
       "    </tr>\n",
       "  </thead>\n",
       "  <tbody>\n",
       "    <tr>\n",
       "      <th>0</th>\n",
       "      <td>24/03/2016 11:52</td>\n",
       "      <td>480</td>\n",
       "      <td>NaN</td>\n",
       "      <td>1993</td>\n",
       "      <td>manual</td>\n",
       "      <td>0</td>\n",
       "      <td>golf</td>\n",
       "      <td>150000</td>\n",
       "      <td>0</td>\n",
       "      <td>petrol</td>\n",
       "      <td>volkswagen</td>\n",
       "      <td>NaN</td>\n",
       "      <td>24/03/2016 00:00</td>\n",
       "      <td>0</td>\n",
       "      <td>70435</td>\n",
       "      <td>07/04/2016 03:16</td>\n",
       "    </tr>\n",
       "    <tr>\n",
       "      <th>1</th>\n",
       "      <td>24/03/2016 10:58</td>\n",
       "      <td>18300</td>\n",
       "      <td>coupe</td>\n",
       "      <td>2011</td>\n",
       "      <td>manual</td>\n",
       "      <td>190</td>\n",
       "      <td>NaN</td>\n",
       "      <td>125000</td>\n",
       "      <td>5</td>\n",
       "      <td>gasoline</td>\n",
       "      <td>audi</td>\n",
       "      <td>yes</td>\n",
       "      <td>24/03/2016 00:00</td>\n",
       "      <td>0</td>\n",
       "      <td>66954</td>\n",
       "      <td>07/04/2016 01:46</td>\n",
       "    </tr>\n",
       "    <tr>\n",
       "      <th>2</th>\n",
       "      <td>14/03/2016 12:52</td>\n",
       "      <td>9800</td>\n",
       "      <td>suv</td>\n",
       "      <td>2004</td>\n",
       "      <td>auto</td>\n",
       "      <td>163</td>\n",
       "      <td>grand</td>\n",
       "      <td>125000</td>\n",
       "      <td>8</td>\n",
       "      <td>gasoline</td>\n",
       "      <td>jeep</td>\n",
       "      <td>NaN</td>\n",
       "      <td>14/03/2016 00:00</td>\n",
       "      <td>0</td>\n",
       "      <td>90480</td>\n",
       "      <td>05/04/2016 12:47</td>\n",
       "    </tr>\n",
       "    <tr>\n",
       "      <th>3</th>\n",
       "      <td>17/03/2016 16:54</td>\n",
       "      <td>1500</td>\n",
       "      <td>small</td>\n",
       "      <td>2001</td>\n",
       "      <td>manual</td>\n",
       "      <td>75</td>\n",
       "      <td>golf</td>\n",
       "      <td>150000</td>\n",
       "      <td>6</td>\n",
       "      <td>petrol</td>\n",
       "      <td>volkswagen</td>\n",
       "      <td>no</td>\n",
       "      <td>17/03/2016 00:00</td>\n",
       "      <td>0</td>\n",
       "      <td>91074</td>\n",
       "      <td>17/03/2016 17:40</td>\n",
       "    </tr>\n",
       "    <tr>\n",
       "      <th>4</th>\n",
       "      <td>31/03/2016 17:25</td>\n",
       "      <td>3600</td>\n",
       "      <td>small</td>\n",
       "      <td>2008</td>\n",
       "      <td>manual</td>\n",
       "      <td>69</td>\n",
       "      <td>fabia</td>\n",
       "      <td>90000</td>\n",
       "      <td>7</td>\n",
       "      <td>gasoline</td>\n",
       "      <td>skoda</td>\n",
       "      <td>no</td>\n",
       "      <td>31/03/2016 00:00</td>\n",
       "      <td>0</td>\n",
       "      <td>60437</td>\n",
       "      <td>06/04/2016 10:17</td>\n",
       "    </tr>\n",
       "  </tbody>\n",
       "</table>\n",
       "</div>"
      ],
      "text/plain": [
       "       date_crawled  price vehicle_type  registration_year gearbox  power  \\\n",
       "0  24/03/2016 11:52    480          NaN               1993  manual      0   \n",
       "1  24/03/2016 10:58  18300        coupe               2011  manual    190   \n",
       "2  14/03/2016 12:52   9800          suv               2004    auto    163   \n",
       "3  17/03/2016 16:54   1500        small               2001  manual     75   \n",
       "4  31/03/2016 17:25   3600        small               2008  manual     69   \n",
       "\n",
       "   model  mileage  registration_month fuel_type       brand not_repaired  \\\n",
       "0   golf   150000                   0    petrol  volkswagen          NaN   \n",
       "1    NaN   125000                   5  gasoline        audi          yes   \n",
       "2  grand   125000                   8  gasoline        jeep          NaN   \n",
       "3   golf   150000                   6    petrol  volkswagen           no   \n",
       "4  fabia    90000                   7  gasoline       skoda           no   \n",
       "\n",
       "       date_created  number_of_pictures  postal_code         last_seen  \n",
       "0  24/03/2016 00:00                   0        70435  07/04/2016 03:16  \n",
       "1  24/03/2016 00:00                   0        66954  07/04/2016 01:46  \n",
       "2  14/03/2016 00:00                   0        90480  05/04/2016 12:47  \n",
       "3  17/03/2016 00:00                   0        91074  17/03/2016 17:40  \n",
       "4  31/03/2016 00:00                   0        60437  06/04/2016 10:17  "
      ]
     },
     "execution_count": 8,
     "metadata": {},
     "output_type": "execute_result"
    }
   ],
   "source": [
    "df.head(5)"
   ]
  },
  {
   "cell_type": "markdown",
   "metadata": {},
   "source": [
    "<div class=\"alert alert-block alert-success\">\n",
    "\n",
    "<b>Comentario del revisor. (Iteración 1)</b> <a class=\"tocSkip\"></a>\n",
    "    \n",
    "Excelente Jorge, hasta el momento hemos cargado correctamente los datos separandolos de las importaciones para mitigar posibles errores, a la vez has implementado métodos para visualizar y comprender la composición de nuestros datos como así la normalización de nombres en las columnas. Bien hecho!"
   ]
  },
  {
   "cell_type": "markdown",
   "metadata": {},
   "source": [
    "# Tratamiento de valores nulos"
   ]
  },
  {
   "cell_type": "code",
   "execution_count": 9,
   "metadata": {},
   "outputs": [],
   "source": [
    "#Se eliminan valores nulos\n",
    "df = df.dropna()"
   ]
  },
  {
   "cell_type": "code",
   "execution_count": 10,
   "metadata": {},
   "outputs": [
    {
     "data": {
      "text/plain": [
       "date_crawled          0\n",
       "price                 0\n",
       "vehicle_type          0\n",
       "registration_year     0\n",
       "gearbox               0\n",
       "power                 0\n",
       "model                 0\n",
       "mileage               0\n",
       "registration_month    0\n",
       "fuel_type             0\n",
       "brand                 0\n",
       "not_repaired          0\n",
       "date_created          0\n",
       "number_of_pictures    0\n",
       "postal_code           0\n",
       "last_seen             0\n",
       "dtype: int64"
      ]
     },
     "execution_count": 10,
     "metadata": {},
     "output_type": "execute_result"
    }
   ],
   "source": [
    "df.isnull().sum()"
   ]
  },
  {
   "cell_type": "code",
   "execution_count": null,
   "metadata": {},
   "outputs": [],
   "source": [
    "#Se convierte el formato a tipo fecha en estas columnas\n",
    "df['date_crawled'] = pd.to_datetime(df['date_crawled'])\n",
    "df['date_created'] = pd.to_datetime(df['date_created'])\n",
    "df['last_seen'] = pd.to_datetime(df['last_seen'])"
   ]
  },
  {
   "cell_type": "markdown",
   "metadata": {},
   "source": [
    "<div class=\"alert alert-block alert-success\">\n",
    "\n",
    "<b>Comentario del revisor. (Iteración 1)</b> <a class=\"tocSkip\"></a>\n",
    "    \n",
    "Excelente trabajo respecto a los nulos Jorge!"
   ]
  },
  {
   "cell_type": "code",
   "execution_count": null,
   "metadata": {},
   "outputs": [],
   "source": [
    "#Lista de columnas categóricas\n",
    "categorical_columns = ['vehicle_type', 'gearbox', 'model', 'fuel_type', 'brand', 'not_repaired']\n",
    "\n",
    "#Se aplica One-Hot Encoding para características categóricas\n",
    "df = pd.get_dummies(df, columns=categorical_columns, drop_first=True)"
   ]
  },
  {
   "cell_type": "markdown",
   "metadata": {},
   "source": [
    "<div class=\"alert alert-block alert-warning\">\n",
    "\n",
    "<b>Comentario del revisor. (Iteración 1)</b> <a class=\"tocSkip\"></a>\n",
    "    \n",
    "Aquí hemos decidido de forma excelente el transfomrar aquellas features categóricas a numéricas, solo tengamos en cuenta que hay algunsa features que contienen muchos diferentes valores por lo que aplicar este técnica hará que aumente mucho la dimensionalidad de nuestro problema, exactamente tendremos 306 columnas lo cual es bastante, te invito a que de forma opcional plantees otra alternativa ya sea al no tener en cuenta dicha feature o aplicar otro método de encoding."
   ]
  },
  {
   "cell_type": "code",
   "execution_count": null,
   "metadata": {},
   "outputs": [],
   "source": [
    "#Se eliminan estas columnas debido a que no se aplicarán en el entrenamiento del modelo\n",
    "df = df.drop(['date_crawled', 'date_created', 'last_seen', 'number_of_pictures', 'postal_code'], axis=1)"
   ]
  },
  {
   "cell_type": "code",
   "execution_count": null,
   "metadata": {},
   "outputs": [],
   "source": [
    "df.head()"
   ]
  },
  {
   "cell_type": "code",
   "execution_count": null,
   "metadata": {},
   "outputs": [],
   "source": [
    "df.describe()"
   ]
  },
  {
   "cell_type": "markdown",
   "metadata": {},
   "source": [
    "Se descartan valores atipícos en las columnas númericas, después de analizar los datos con mayor profundidad."
   ]
  },
  {
   "cell_type": "markdown",
   "metadata": {},
   "source": [
    "<div class=\"alert alert-block alert-success\">\n",
    "\n",
    "<b>Comentario del revisor. (Iteración 1)</b> <a class=\"tocSkip\"></a>\n",
    "    \n",
    "Y tal como debíamos excelente al eliminar aquellas features que no aoprtan valor a nuestro modelo Jorge!"
   ]
  },
  {
   "cell_type": "markdown",
   "metadata": {},
   "source": [
    "<div class=\"alert alert-block alert-danger\">\n",
    "\n",
    "<b>Comentario del revisor. (Iteración 1)</b> <a class=\"tocSkip\"></a>\n",
    "    \n",
    "Previo a continuar Jorge es muy importante que hagamos un análisis profundo respecto a los valores outliers en las features, tanto máximos como minimos, como ejemplo siempre puede que en los datos haya valores sucios como por ejemplo RegistrationYear igual a 9999, claramente un valor atipico, tratemos de de investigar y mitigar posibles situaciones, otro ejemplo serían precios negativos, etc"
   ]
  },
  {
   "cell_type": "code",
   "execution_count": null,
   "metadata": {},
   "outputs": [],
   "source": [
    "#Se establece price como el target en 'y', y en X las features\n",
    "X = df.drop('price', axis=1)\n",
    "y = df['price']"
   ]
  },
  {
   "cell_type": "code",
   "execution_count": null,
   "metadata": {},
   "outputs": [],
   "source": [
    "X_train, X_test, y_train, y_test = train_test_split(X, y, test_size=0.2, random_state=42)"
   ]
  },
  {
   "cell_type": "code",
   "execution_count": null,
   "metadata": {},
   "outputs": [],
   "source": [
    "X_train, X_valid, y_train, y_valid = train_test_split(X_train, y_train, test_size=0.25, random_state=42)"
   ]
  },
  {
   "cell_type": "markdown",
   "metadata": {},
   "source": [
    "<div class=\"alert alert-block alert-danger\">\n",
    "\n",
    "<b>Comentario del revisor. (Iteración 1)</b> <a class=\"tocSkip\"></a>\n",
    "    \n",
    "Recordemos que siempre debemos dividir nuestros datos en 3 conjuntos, tanto el de entrenamiento como los de validación y testeo donde utilizaremos los dos primeros (train y val) para la sección de busqueda del mejor modelo y luego al final de todo utilizaremos el mejor modelo contra el tercer conjunto."
   ]
  },
  {
   "cell_type": "markdown",
   "metadata": {},
   "source": [
    "## Entrenamiento del modelo "
   ]
  },
  {
   "cell_type": "code",
   "execution_count": null,
   "metadata": {},
   "outputs": [],
   "source": [
    "#Modelo de Regresión Lineal\n",
    "lr_model = LinearRegression()\n",
    "lr_model.fit(X_train, y_train)\n",
    "\n",
    "#Predicción\n",
    "y_pred_lr = lr_model.predict(X_test)\n",
    "\n",
    "#Evaluación\n",
    "rmse_lr = mean_squared_error(y_test, y_pred_lr, squared=False)\n",
    "r2_lr = r2_score(y_test, y_pred_lr)\n",
    "print(f\"Regresión Lineal - RMSE: {rmse_lr}, R2: {r2_lr}\")"
   ]
  },
  {
   "cell_type": "code",
   "execution_count": null,
   "metadata": {},
   "outputs": [],
   "source": [
    "#Modelo de Árbol de Decisión\n",
    "dt_model = DecisionTreeRegressor(random_state=42)\n",
    "dt_model.fit(X_train, y_train)\n",
    "\n",
    "#Predicción\n",
    "y_pred_dt = dt_model.predict(X_test)\n",
    "\n",
    "#Evaluación\n",
    "rmse_dt = mean_squared_error(y_test, y_pred_dt, squared=False)\n",
    "r2_dt = r2_score(y_test, y_pred_dt)\n",
    "print(f\"Árbol de Decisión - RMSE: {rmse_dt}, R2: {r2_dt}\")"
   ]
  },
  {
   "cell_type": "code",
   "execution_count": null,
   "metadata": {},
   "outputs": [],
   "source": [
    "#Modelo de Bosque Aleatorio\n",
    "rf_model = RandomForestRegressor(random_state=42)\n",
    "rf_model.fit(X_train, y_train)\n",
    "\n",
    "#Predicción\n",
    "y_pred_rf = rf_model.predict(X_test)\n",
    "\n",
    "#Evaluación\n",
    "rmse_rf = mean_squared_error(y_test, y_pred_rf, squared=False)\n",
    "r2_rf = r2_score(y_test, y_pred_rf)\n",
    "print(f\"Bosque Aleatorio - RMSE: {rmse_rf}, R2: {r2_rf}\")"
   ]
  },
  {
   "cell_type": "code",
   "execution_count": null,
   "metadata": {},
   "outputs": [],
   "source": [
    "# Modelo de LightGBM\n",
    "lgb_model = lgb.LGBMRegressor(random_state=42)\n",
    "lgb_model.fit(X_train, y_train)\n",
    "\n",
    "# Predicción\n",
    "y_pred_lgb = lgb_model.predict(X_test)\n",
    "\n",
    "# Evaluación\n",
    "rmse_lgb = mean_squared_error(y_test, y_pred_lgb, squared=False)\n",
    "r2_lgb = r2_score(y_test, y_pred_lgb)\n",
    "print(f\"LightGBM - RMSE: {rmse_lgb}, R2: {r2_lgb}\")"
   ]
  },
  {
   "cell_type": "markdown",
   "metadata": {},
   "source": [
    "<div class=\"alert alert-block alert-warning\">\n",
    "\n",
    "<b>Comentario del revisor. (Iteración 1)</b> <a class=\"tocSkip\"></a>\n",
    "    \n",
    "Respecto a los modelos lo hemos hecho muy bien Jorge! Hemos declarado  a los mismos de forma básica, los hemos entrenado y evaluado calculando la métrica correspondiente. Cuando tengamos los 3 conjuntos en este paso debemos predecir y evaluar el conjunto de validación."
   ]
  },
  {
   "cell_type": "markdown",
   "metadata": {},
   "source": [
    "## Análisis del modelo"
   ]
  },
  {
   "cell_type": "code",
   "execution_count": null,
   "metadata": {},
   "outputs": [],
   "source": [
    "def train_and_evaluate(model, X_train, X_test, y_train, y_test):\n",
    "    start_time = time.time()\n",
    "    model.fit(X_train, y_train)\n",
    "    training_time = time.time() - start_time\n",
    "\n",
    "    start_time = time.time()\n",
    "    y_pred = model.predict(X_test)\n",
    "    prediction_time = time.time() - start_time\n",
    "\n",
    "    rmse = mean_squared_error(y_test, y_pred, squared=False)\n",
    "    r2 = r2_score(y_test, y_pred)\n",
    "\n",
    "    return training_time, prediction_time, rmse, r2\n",
    "\n",
    "#Evaluación de modelos\n",
    "models = {\n",
    "    'Linear Regression': LinearRegression(),\n",
    "    'Decision Tree': DecisionTreeRegressor(random_state=42),\n",
    "    'Random Forest': RandomForestRegressor(random_state=42),\n",
    "    'LightGBM': lgb.LGBMRegressor(random_state=42)\n",
    "}\n",
    "\n",
    "for model_name, model in models.items():\n",
    "    training_time, prediction_time, rmse, r2 = train_and_evaluate(model, X_train, X_valid, y_train, y_valid)\n",
    "    print(f\"{model_name} - Training Time: {training_time:.2f}s, Prediction Time: {prediction_time:.2f}s, RMSE: {rmse}, R2: {r2}\")\n"
   ]
  },
  {
   "cell_type": "code",
   "execution_count": null,
   "metadata": {},
   "outputs": [],
   "source": [
    "# Modelo de LightGBM\n",
    "lgb_model = lgb.LGBMRegressor(random_state=42)\n",
    "lgb_model.fit(X_train, y_train)\n",
    "\n",
    "# Predicción\n",
    "y_pred_lgb = lgb_model.predict(X_test)\n",
    "\n",
    "# Evaluación\n",
    "rmse_lgb = mean_squared_error(y_test, y_pred_lgb, squared=False)\n",
    "r2_lgb = r2_score(y_test, y_pred_lgb)\n",
    "print(f\"LightGBM - RMSE: {rmse_lgb}, R2: {r2_lgb}\")"
   ]
  },
  {
   "cell_type": "markdown",
   "metadata": {},
   "source": [
    "## Implementación final"
   ]
  },
  {
   "cell_type": "code",
   "execution_count": null,
   "metadata": {},
   "outputs": [],
   "source": [
    "#Ajuste de parámetros\n",
    "param_grid = {\n",
    "    'n_estimators': [50, 100, 200],\n",
    "    'max_depth': [None, 10, 20, 30],\n",
    "    'min_samples_split': [2, 5, 10]\n",
    "}\n",
    "\n",
    "#Búsqueda de cuadrícula\n",
    "grid_search = GridSearchCV(RandomForestRegressor(random_state=42), param_grid, cv=3, scoring='neg_root_mean_squared_error')\n",
    "grid_search.fit(X_train, y_train)\n",
    "\n",
    "#Mejor modelo\n",
    "best_rf_model = grid_search.best_estimator_\n",
    "\n",
    "#Evaluación\n",
    "y_pred_best_rf = best_rf_model.predict(X_test)\n",
    "rmse_best_rf = mean_squared_error(y_test, y_pred_best_rf, squared=False)\n",
    "r2_best_rf = r2_score(y_test, y_pred_best_rf)\n",
    "print(f\"Best Random Forest - RMSE: {rmse_best_rf}, R2: {r2_best_rf}\")"
   ]
  },
  {
   "cell_type": "markdown",
   "metadata": {},
   "source": [
    "<div class=\"alert alert-block alert-success\">\n",
    "\n",
    "<b>Comentario del revisor. (Iteración 1)</b> <a class=\"tocSkip\"></a>\n",
    "    \n",
    "Impresionante! Perfecta profundización mediante el uso de GridSearch para evaluar como impactan en los resultados los diferentes hiperparametros, felicitaciones!"
   ]
  },
  {
   "cell_type": "markdown",
   "metadata": {},
   "source": [
    "<div class=\"alert alert-block alert-danger\">\n",
    "\n",
    "<b>Comentario del revisor. (Iteración 1)</b> <a class=\"tocSkip\"></a>\n",
    "    \n",
    "Hasta aquí hemos probado diferentes modelos con diferentes caracteristicas Jorge y te felicito por ello, ahora deberíamos agregar la sección final donde tomamos este mejor modelo y evaluamos el tercer conjunot que nos falta crear."
   ]
  },
  {
   "cell_type": "markdown",
   "metadata": {},
   "source": [
    "## Conclusiones\n",
    "\n",
    "1. Preparación y Exploración de Datos\n",
    "\n",
    "El dataset muestra información importante sobre los autos usados, las características eran las siguientes; caja de cambios, kilometraje, año de registro, ptencia, modelo, combustible, etc.\n",
    "\n",
    "\n",
    "2. Entrenamiento de Modelos\n",
    "\n",
    "Regresión Lineal: Se probó este modelo, el cual tuvo un rendimiento aceptable, sin embargo se apreció que los errores residuales son más altos en comparación a otros modelos de mayor complejidad.\n",
    "\n",
    "Árbol de Decisión: Demostró mejoría en la capacidad de captura de relaciones no lineales en los datos, por otro lado se observó una tendencia al sobreajuste del conjunto de entrenamiento, generando un decremento en el rendimiento en el conjunto de prueba.\n",
    "\n",
    "Bosque Aleatorio: Se aplicarón múltiples árboles de decisión, se ajustaron los hiperparámetros para optimizar el rendimiento, generando un modelo más robusto y con menor varianza. El modelo mejoró significativamente la precisión de las predicciones. \n",
    "\n",
    "LightGBM: Este algoritmo de potenciación del gradiente, llamo la atención por su precisión y velocidad, el modelo de LightGBM, una vez que se ajustaron los hiperparámetros, demostró un gran equilibrio entre la calidad de predecir y la velocidad del entrenamiento. Se observa una gran capacidad para manejar grandes volúmenes de datos y capturar patrones complejos eficientemente.   \n",
    "\n",
    "3. Evaluación del Rendimiento\n",
    "\n",
    "Se aplicó la métrica RMSE (Root Mean Squared Error) y R2 para evaluar la calidad de los modelos. Se puede concluir lo siguiente:\n",
    "\n",
    "- Regresión Lineal: RMSE y R2 fueron aceptables, pero no tan buenos como los modelos más complejos. R2 y RMSE resultaron aceptables, pero no con la calidad de los modelos de mayor complejidad.\n",
    "- Árbol de Decisión: Se apreció  una mejoría sobre la regresión lineal, pero mostró sobreajuste.\n",
    "- Bosque Aleatorio: Aumentó el R2 y se redujó de forma significativa el RMSE, exhibiendo un equilibrio mejorado entre generalización y ajuste.  \n",
    "- LightGBM: Fue el modelo que demostró el mejor rendimiento, con el R2 más alto y el RMSE más bajo, es el de mayor calidad para el conjunto de datos.\n",
    "\n",
    "4. Velocidad y Eficiencia\n",
    "LightGBM fue el el modelo que sobresalió en ambos temas, demostrando un tiempo de entrenamiento razonable y ofreciendo rápidas predicciones, es la mejor opción para una aplicación en tiempo real.\n",
    "\n",
    "\n",
    "\n",
    "\n"
   ]
  },
  {
   "cell_type": "markdown",
   "metadata": {},
   "source": [
    "<div class=\"alert alert-block alert-success\">\n",
    "\n",
    "<b>Comentario del revisor. (Iteración 1)</b> <a class=\"tocSkip\"></a>\n",
    "    \n",
    "Solo queda felicitarte Jorge, has hecho un muy buen trabajo, un trabajo prolijo y que resalta capacidad y comprensión tanto en lo implementado y en lo analizado. Felicitaciones!"
   ]
  },
  {
   "cell_type": "markdown",
   "metadata": {},
   "source": [
    "# Lista de control"
   ]
  },
  {
   "cell_type": "markdown",
   "metadata": {},
   "source": [
    "Escribe 'x' para verificar. Luego presiona Shift+Enter"
   ]
  },
  {
   "cell_type": "markdown",
   "metadata": {},
   "source": [
    "- [x]  Jupyter Notebook está abierto\n",
    "- [ ]  El código no tiene errores- [ ]  Las celdas con el código han sido colocadas en orden de ejecución- [ ]  Los datos han sido descargados y preparados- [ ]  Los modelos han sido entrenados\n",
    "- [ ]  Se realizó el análisis de velocidad y calidad de los modelos"
   ]
  },
  {
   "cell_type": "code",
   "execution_count": null,
   "metadata": {},
   "outputs": [],
   "source": []
  }
 ],
 "metadata": {
  "ExecuteTimeLog": [
   {
    "duration": 15,
    "start_time": "2024-08-08T22:40:27.845Z"
   },
   {
    "duration": 5,
    "start_time": "2024-08-08T22:40:32.169Z"
   },
   {
    "duration": 5,
    "start_time": "2024-08-08T22:40:52.497Z"
   },
   {
    "duration": 5,
    "start_time": "2024-08-08T22:41:01.863Z"
   },
   {
    "duration": 11,
    "start_time": "2024-08-08T22:41:07.753Z"
   },
   {
    "duration": 0,
    "start_time": "2024-08-08T22:41:07.767Z"
   },
   {
    "duration": 5220,
    "start_time": "2024-08-08T22:54:40.993Z"
   },
   {
    "duration": 5,
    "start_time": "2024-08-08T22:55:14.060Z"
   },
   {
    "duration": 6,
    "start_time": "2024-08-08T23:00:03.864Z"
   },
   {
    "duration": 780,
    "start_time": "2024-08-08T23:00:04.895Z"
   },
   {
    "duration": 39,
    "start_time": "2024-08-08T23:19:24.084Z"
   },
   {
    "duration": 34,
    "start_time": "2024-08-08T23:19:56.411Z"
   },
   {
    "duration": 141,
    "start_time": "2024-08-08T23:20:17.677Z"
   },
   {
    "duration": 5506,
    "start_time": "2024-08-14T21:39:22.560Z"
   },
   {
    "duration": 830,
    "start_time": "2024-08-14T21:39:28.070Z"
   },
   {
    "duration": 52,
    "start_time": "2024-08-14T21:39:28.904Z"
   },
   {
    "duration": 39,
    "start_time": "2024-08-14T21:39:28.959Z"
   },
   {
    "duration": 151,
    "start_time": "2024-08-14T21:39:29.022Z"
   },
   {
    "duration": 128,
    "start_time": "2024-08-14T22:26:09.588Z"
   },
   {
    "duration": 6,
    "start_time": "2024-08-14T22:30:09.498Z"
   },
   {
    "duration": 20,
    "start_time": "2024-08-14T22:30:36.285Z"
   },
   {
    "duration": 1717,
    "start_time": "2024-08-15T05:11:42.634Z"
   },
   {
    "duration": 734,
    "start_time": "2024-08-15T05:11:44.355Z"
   },
   {
    "duration": 51,
    "start_time": "2024-08-15T05:11:45.092Z"
   },
   {
    "duration": 35,
    "start_time": "2024-08-15T05:11:45.145Z"
   },
   {
    "duration": 164,
    "start_time": "2024-08-15T05:11:45.184Z"
   },
   {
    "duration": 130,
    "start_time": "2024-08-15T05:11:45.351Z"
   },
   {
    "duration": 5,
    "start_time": "2024-08-15T05:11:45.484Z"
   },
   {
    "duration": 33,
    "start_time": "2024-08-15T05:11:45.492Z"
   },
   {
    "duration": 28,
    "start_time": "2024-08-15T05:43:49.503Z"
   },
   {
    "duration": 26,
    "start_time": "2024-08-15T05:44:23.707Z"
   },
   {
    "duration": 422,
    "start_time": "2024-08-15T05:46:15.116Z"
   },
   {
    "duration": 1657,
    "start_time": "2024-08-15T05:46:56.367Z"
   },
   {
    "duration": 717,
    "start_time": "2024-08-15T05:46:58.028Z"
   },
   {
    "duration": 40,
    "start_time": "2024-08-15T05:46:58.748Z"
   },
   {
    "duration": 60,
    "start_time": "2024-08-15T05:46:58.791Z"
   },
   {
    "duration": 220,
    "start_time": "2024-08-15T05:46:58.857Z"
   },
   {
    "duration": 120,
    "start_time": "2024-08-15T05:46:59.080Z"
   },
   {
    "duration": 6,
    "start_time": "2024-08-15T05:46:59.202Z"
   },
   {
    "duration": 20,
    "start_time": "2024-08-15T05:46:59.224Z"
   },
   {
    "duration": 33,
    "start_time": "2024-08-15T05:46:59.248Z"
   },
   {
    "duration": 56,
    "start_time": "2024-08-15T05:46:59.284Z"
   },
   {
    "duration": 453,
    "start_time": "2024-08-15T05:46:59.342Z"
   },
   {
    "duration": 31,
    "start_time": "2024-08-15T05:48:19.712Z"
   },
   {
    "duration": 31,
    "start_time": "2024-08-15T05:48:21.372Z"
   },
   {
    "duration": 30,
    "start_time": "2024-08-15T05:48:38.901Z"
   },
   {
    "duration": 48,
    "start_time": "2024-08-15T05:49:20.145Z"
   },
   {
    "duration": 53,
    "start_time": "2024-08-15T05:49:30.241Z"
   },
   {
    "duration": 57,
    "start_time": "2024-08-15T05:49:36.112Z"
   },
   {
    "duration": 92,
    "start_time": "2024-08-15T05:50:18.091Z"
   },
   {
    "duration": 27,
    "start_time": "2024-08-15T05:59:41.199Z"
   },
   {
    "duration": 36,
    "start_time": "2024-08-15T06:01:28.836Z"
   },
   {
    "duration": 57,
    "start_time": "2024-08-15T06:02:17.789Z"
   },
   {
    "duration": 53,
    "start_time": "2024-08-15T06:02:50.997Z"
   },
   {
    "duration": 58,
    "start_time": "2024-08-15T06:03:32.735Z"
   },
   {
    "duration": 28,
    "start_time": "2024-08-15T06:03:35.870Z"
   },
   {
    "duration": 36,
    "start_time": "2024-08-15T06:17:27.265Z"
   },
   {
    "duration": 52,
    "start_time": "2024-08-15T06:18:20.757Z"
   },
   {
    "duration": 86,
    "start_time": "2024-08-15T06:18:37.662Z"
   },
   {
    "duration": 62,
    "start_time": "2024-08-15T06:18:51.094Z"
   },
   {
    "duration": 34,
    "start_time": "2024-08-15T06:19:55.018Z"
   },
   {
    "duration": 50,
    "start_time": "2024-08-15T06:21:11.911Z"
   },
   {
    "duration": 33,
    "start_time": "2024-08-15T06:22:36.207Z"
   },
   {
    "duration": 52,
    "start_time": "2024-08-15T06:23:34.495Z"
   },
   {
    "duration": 1672,
    "start_time": "2024-08-15T06:24:42.933Z"
   },
   {
    "duration": 722,
    "start_time": "2024-08-15T06:24:44.609Z"
   },
   {
    "duration": 41,
    "start_time": "2024-08-15T06:24:45.333Z"
   },
   {
    "duration": 58,
    "start_time": "2024-08-15T06:24:45.376Z"
   },
   {
    "duration": 162,
    "start_time": "2024-08-15T06:24:45.438Z"
   },
   {
    "duration": 129,
    "start_time": "2024-08-15T06:24:45.603Z"
   },
   {
    "duration": 5,
    "start_time": "2024-08-15T06:24:45.735Z"
   },
   {
    "duration": 20,
    "start_time": "2024-08-15T06:24:45.743Z"
   },
   {
    "duration": 58,
    "start_time": "2024-08-15T06:24:45.766Z"
   },
   {
    "duration": 25,
    "start_time": "2024-08-15T06:24:45.828Z"
   },
   {
    "duration": 74,
    "start_time": "2024-08-15T06:24:45.856Z"
   },
   {
    "duration": 26,
    "start_time": "2024-08-15T06:24:45.933Z"
   },
   {
    "duration": 26,
    "start_time": "2024-08-15T06:24:45.963Z"
   },
   {
    "duration": 59,
    "start_time": "2024-08-15T06:24:46.000Z"
   },
   {
    "duration": 29,
    "start_time": "2024-08-15T06:24:46.062Z"
   },
   {
    "duration": 64,
    "start_time": "2024-08-15T06:24:46.094Z"
   },
   {
    "duration": 26,
    "start_time": "2024-08-15T06:24:46.161Z"
   },
   {
    "duration": 60,
    "start_time": "2024-08-15T06:24:46.190Z"
   },
   {
    "duration": 25,
    "start_time": "2024-08-15T06:24:46.253Z"
   },
   {
    "duration": 67,
    "start_time": "2024-08-15T06:24:46.282Z"
   },
   {
    "duration": 113,
    "start_time": "2024-08-15T06:24:46.352Z"
   },
   {
    "duration": 1689,
    "start_time": "2024-08-15T06:39:07.227Z"
   },
   {
    "duration": 707,
    "start_time": "2024-08-15T06:39:08.920Z"
   },
   {
    "duration": 43,
    "start_time": "2024-08-15T06:39:09.629Z"
   },
   {
    "duration": 60,
    "start_time": "2024-08-15T06:39:09.675Z"
   },
   {
    "duration": 156,
    "start_time": "2024-08-15T06:39:09.740Z"
   },
   {
    "duration": 127,
    "start_time": "2024-08-15T06:39:09.898Z"
   },
   {
    "duration": 7,
    "start_time": "2024-08-15T06:39:10.029Z"
   },
   {
    "duration": 19,
    "start_time": "2024-08-15T06:39:10.039Z"
   },
   {
    "duration": 62,
    "start_time": "2024-08-15T06:39:10.061Z"
   },
   {
    "duration": 28,
    "start_time": "2024-08-15T06:39:10.126Z"
   },
   {
    "duration": 39,
    "start_time": "2024-08-15T06:39:10.157Z"
   },
   {
    "duration": 27,
    "start_time": "2024-08-15T06:39:10.226Z"
   },
   {
    "duration": 28,
    "start_time": "2024-08-15T06:39:10.256Z"
   },
   {
    "duration": 69,
    "start_time": "2024-08-15T06:39:10.291Z"
   },
   {
    "duration": 29,
    "start_time": "2024-08-15T06:39:10.363Z"
   },
   {
    "duration": 62,
    "start_time": "2024-08-15T06:39:10.395Z"
   },
   {
    "duration": 27,
    "start_time": "2024-08-15T06:39:10.461Z"
   },
   {
    "duration": 69,
    "start_time": "2024-08-15T06:39:10.491Z"
   },
   {
    "duration": 26,
    "start_time": "2024-08-15T06:39:10.562Z"
   },
   {
    "duration": 69,
    "start_time": "2024-08-15T06:39:10.591Z"
   },
   {
    "duration": 150,
    "start_time": "2024-08-15T06:39:10.663Z"
   },
   {
    "duration": 106,
    "start_time": "2024-08-15T06:39:10.824Z"
   },
   {
    "duration": 90,
    "start_time": "2024-08-15T06:39:20.825Z"
   },
   {
    "duration": 105,
    "start_time": "2024-08-15T06:40:49.622Z"
   },
   {
    "duration": 5255,
    "start_time": "2024-08-15T22:25:11.019Z"
   },
   {
    "duration": 797,
    "start_time": "2024-08-15T22:25:16.278Z"
   },
   {
    "duration": 56,
    "start_time": "2024-08-15T22:25:17.078Z"
   },
   {
    "duration": 35,
    "start_time": "2024-08-15T22:25:17.137Z"
   },
   {
    "duration": 162,
    "start_time": "2024-08-15T22:25:17.176Z"
   },
   {
    "duration": 127,
    "start_time": "2024-08-15T22:25:17.341Z"
   },
   {
    "duration": 6,
    "start_time": "2024-08-15T22:25:17.472Z"
   },
   {
    "duration": 33,
    "start_time": "2024-08-15T22:25:17.482Z"
   },
   {
    "duration": 26,
    "start_time": "2024-08-15T22:25:17.519Z"
   },
   {
    "duration": 28,
    "start_time": "2024-08-15T22:25:17.548Z"
   },
   {
    "duration": 65,
    "start_time": "2024-08-15T22:25:17.578Z"
   },
   {
    "duration": 26,
    "start_time": "2024-08-15T22:25:17.645Z"
   },
   {
    "duration": 54,
    "start_time": "2024-08-15T22:25:17.674Z"
   },
   {
    "duration": 41,
    "start_time": "2024-08-15T22:25:17.736Z"
   },
   {
    "duration": 52,
    "start_time": "2024-08-15T22:25:17.780Z"
   },
   {
    "duration": 39,
    "start_time": "2024-08-15T22:25:17.835Z"
   },
   {
    "duration": 54,
    "start_time": "2024-08-15T22:25:17.877Z"
   },
   {
    "duration": 42,
    "start_time": "2024-08-15T22:25:17.934Z"
   },
   {
    "duration": 50,
    "start_time": "2024-08-15T22:25:17.979Z"
   },
   {
    "duration": 41,
    "start_time": "2024-08-15T22:25:18.032Z"
   },
   {
    "duration": 170,
    "start_time": "2024-08-15T22:25:18.076Z"
   },
   {
    "duration": 113,
    "start_time": "2024-08-15T22:25:18.249Z"
   },
   {
    "duration": 20,
    "start_time": "2024-08-15T23:16:50.516Z"
   },
   {
    "duration": 152,
    "start_time": "2024-08-15T23:17:10.451Z"
   },
   {
    "duration": 21,
    "start_time": "2024-08-15T23:17:53.515Z"
   },
   {
    "duration": 137,
    "start_time": "2024-08-15T23:17:55.199Z"
   },
   {
    "duration": 20,
    "start_time": "2024-08-15T23:18:20.374Z"
   },
   {
    "duration": 138,
    "start_time": "2024-08-15T23:18:22.905Z"
   },
   {
    "duration": 19,
    "start_time": "2024-08-15T23:18:55.623Z"
   },
   {
    "duration": 140,
    "start_time": "2024-08-15T23:18:56.586Z"
   },
   {
    "duration": 20,
    "start_time": "2024-08-15T23:19:15.323Z"
   },
   {
    "duration": 136,
    "start_time": "2024-08-15T23:19:16.109Z"
   },
   {
    "duration": 36,
    "start_time": "2024-08-15T23:28:57.573Z"
   },
   {
    "duration": 1807,
    "start_time": "2024-08-15T23:29:09.504Z"
   },
   {
    "duration": 0,
    "start_time": "2024-08-15T23:29:11.314Z"
   },
   {
    "duration": 1683,
    "start_time": "2024-08-15T23:29:21.227Z"
   },
   {
    "duration": 721,
    "start_time": "2024-08-15T23:29:22.913Z"
   },
   {
    "duration": 45,
    "start_time": "2024-08-15T23:29:23.637Z"
   },
   {
    "duration": 54,
    "start_time": "2024-08-15T23:29:23.685Z"
   },
   {
    "duration": 153,
    "start_time": "2024-08-15T23:29:23.743Z"
   },
   {
    "duration": 126,
    "start_time": "2024-08-15T23:29:23.898Z"
   },
   {
    "duration": 7,
    "start_time": "2024-08-15T23:29:24.027Z"
   },
   {
    "duration": 23,
    "start_time": "2024-08-15T23:29:24.038Z"
   },
   {
    "duration": 53,
    "start_time": "2024-08-15T23:29:24.064Z"
   },
   {
    "duration": 21,
    "start_time": "2024-08-15T23:29:24.120Z"
   },
   {
    "duration": 20,
    "start_time": "2024-08-15T23:29:24.144Z"
   },
   {
    "duration": 51,
    "start_time": "2024-08-15T23:29:24.167Z"
   },
   {
    "duration": 147,
    "start_time": "2024-08-15T23:29:24.220Z"
   },
   {
    "duration": 59,
    "start_time": "2024-08-15T23:29:24.374Z"
   },
   {
    "duration": 145,
    "start_time": "2024-08-15T23:29:24.436Z"
   },
   {
    "duration": 78,
    "start_time": "2024-08-15T23:29:24.584Z"
   },
   {
    "duration": 1668,
    "start_time": "2024-08-15T23:35:58.424Z"
   },
   {
    "duration": 727,
    "start_time": "2024-08-15T23:36:00.096Z"
   },
   {
    "duration": 43,
    "start_time": "2024-08-15T23:36:00.826Z"
   },
   {
    "duration": 54,
    "start_time": "2024-08-15T23:36:00.872Z"
   },
   {
    "duration": 154,
    "start_time": "2024-08-15T23:36:00.929Z"
   },
   {
    "duration": 123,
    "start_time": "2024-08-15T23:36:01.086Z"
   },
   {
    "duration": 6,
    "start_time": "2024-08-15T23:36:01.212Z"
   },
   {
    "duration": 18,
    "start_time": "2024-08-15T23:36:01.222Z"
   },
   {
    "duration": 21,
    "start_time": "2024-08-15T23:36:01.244Z"
   },
   {
    "duration": 20,
    "start_time": "2024-08-15T23:36:01.307Z"
   },
   {
    "duration": 20,
    "start_time": "2024-08-15T23:36:01.330Z"
   },
   {
    "duration": 52,
    "start_time": "2024-08-15T23:36:01.354Z"
   },
   {
    "duration": 145,
    "start_time": "2024-08-15T23:36:01.409Z"
   },
   {
    "duration": 56,
    "start_time": "2024-08-15T23:36:01.556Z"
   },
   {
    "duration": 145,
    "start_time": "2024-08-15T23:36:01.615Z"
   },
   {
    "duration": 77,
    "start_time": "2024-08-15T23:36:01.763Z"
   },
   {
    "duration": 1832,
    "start_time": "2024-08-15T23:37:27.998Z"
   },
   {
    "duration": 0,
    "start_time": "2024-08-15T23:37:29.833Z"
   },
   {
    "duration": 1654,
    "start_time": "2024-08-15T23:37:36.450Z"
   },
   {
    "duration": 742,
    "start_time": "2024-08-15T23:37:38.108Z"
   },
   {
    "duration": 53,
    "start_time": "2024-08-15T23:37:38.853Z"
   },
   {
    "duration": 38,
    "start_time": "2024-08-15T23:37:38.909Z"
   },
   {
    "duration": 168,
    "start_time": "2024-08-15T23:37:38.952Z"
   },
   {
    "duration": 123,
    "start_time": "2024-08-15T23:37:39.123Z"
   },
   {
    "duration": 6,
    "start_time": "2024-08-15T23:37:39.248Z"
   },
   {
    "duration": 18,
    "start_time": "2024-08-15T23:37:39.257Z"
   },
   {
    "duration": 46,
    "start_time": "2024-08-15T23:37:39.279Z"
   },
   {
    "duration": 20,
    "start_time": "2024-08-15T23:37:39.329Z"
   },
   {
    "duration": 20,
    "start_time": "2024-08-15T23:37:39.352Z"
   },
   {
    "duration": 50,
    "start_time": "2024-08-15T23:37:39.375Z"
   },
   {
    "duration": 155,
    "start_time": "2024-08-15T23:37:39.428Z"
   },
   {
    "duration": 54,
    "start_time": "2024-08-15T23:37:39.588Z"
   },
   {
    "duration": 152,
    "start_time": "2024-08-15T23:37:39.646Z"
   },
   {
    "duration": 43,
    "start_time": "2024-08-15T23:37:39.808Z"
   },
   {
    "duration": 140,
    "start_time": "2024-08-15T23:37:56.226Z"
   },
   {
    "duration": 41,
    "start_time": "2024-08-15T23:38:11.028Z"
   },
   {
    "duration": 599,
    "start_time": "2024-08-15T23:55:03.886Z"
   },
   {
    "duration": 1669,
    "start_time": "2024-08-16T00:01:16.255Z"
   },
   {
    "duration": 753,
    "start_time": "2024-08-16T00:01:17.928Z"
   },
   {
    "duration": 58,
    "start_time": "2024-08-16T00:01:18.684Z"
   },
   {
    "duration": 36,
    "start_time": "2024-08-16T00:01:18.747Z"
   },
   {
    "duration": 171,
    "start_time": "2024-08-16T00:01:18.786Z"
   },
   {
    "duration": 125,
    "start_time": "2024-08-16T00:01:18.960Z"
   },
   {
    "duration": 6,
    "start_time": "2024-08-16T00:01:19.088Z"
   },
   {
    "duration": 28,
    "start_time": "2024-08-16T00:01:19.096Z"
   },
   {
    "duration": 23,
    "start_time": "2024-08-16T00:01:19.126Z"
   },
   {
    "duration": 52,
    "start_time": "2024-08-16T00:01:19.154Z"
   },
   {
    "duration": 21,
    "start_time": "2024-08-16T00:01:19.209Z"
   },
   {
    "duration": 23,
    "start_time": "2024-08-16T00:01:19.232Z"
   },
   {
    "duration": 170,
    "start_time": "2024-08-16T00:01:19.258Z"
   },
   {
    "duration": 35,
    "start_time": "2024-08-16T00:01:19.434Z"
   },
   {
    "duration": 158,
    "start_time": "2024-08-16T00:01:19.474Z"
   },
   {
    "duration": 43,
    "start_time": "2024-08-16T00:01:19.636Z"
   },
   {
    "duration": 1681,
    "start_time": "2024-08-16T00:01:43.522Z"
   },
   {
    "duration": 715,
    "start_time": "2024-08-16T00:01:45.206Z"
   },
   {
    "duration": 43,
    "start_time": "2024-08-16T00:01:45.923Z"
   },
   {
    "duration": 55,
    "start_time": "2024-08-16T00:01:45.968Z"
   },
   {
    "duration": 160,
    "start_time": "2024-08-16T00:01:46.028Z"
   },
   {
    "duration": 120,
    "start_time": "2024-08-16T00:01:46.192Z"
   },
   {
    "duration": 6,
    "start_time": "2024-08-16T00:01:46.315Z"
   },
   {
    "duration": 19,
    "start_time": "2024-08-16T00:01:46.324Z"
   },
   {
    "duration": 21,
    "start_time": "2024-08-16T00:01:46.346Z"
   },
   {
    "duration": 58,
    "start_time": "2024-08-16T00:01:46.369Z"
   },
   {
    "duration": 21,
    "start_time": "2024-08-16T00:01:46.430Z"
   },
   {
    "duration": 23,
    "start_time": "2024-08-16T00:01:46.454Z"
   },
   {
    "duration": 166,
    "start_time": "2024-08-16T00:01:46.479Z"
   },
   {
    "duration": 55,
    "start_time": "2024-08-16T00:01:46.651Z"
   },
   {
    "duration": 148,
    "start_time": "2024-08-16T00:01:46.708Z"
   },
   {
    "duration": 59,
    "start_time": "2024-08-16T00:01:46.859Z"
   },
   {
    "duration": 315,
    "start_time": "2024-08-16T00:07:58.173Z"
   },
   {
    "duration": 22,
    "start_time": "2024-08-16T00:09:04.211Z"
   },
   {
    "duration": 1689,
    "start_time": "2024-08-16T00:09:12.956Z"
   },
   {
    "duration": 779,
    "start_time": "2024-08-16T00:09:14.649Z"
   },
   {
    "duration": 45,
    "start_time": "2024-08-16T00:09:15.431Z"
   },
   {
    "duration": 60,
    "start_time": "2024-08-16T00:09:15.478Z"
   },
   {
    "duration": 166,
    "start_time": "2024-08-16T00:09:15.543Z"
   },
   {
    "duration": 119,
    "start_time": "2024-08-16T00:09:15.712Z"
   },
   {
    "duration": 6,
    "start_time": "2024-08-16T00:09:15.835Z"
   },
   {
    "duration": 19,
    "start_time": "2024-08-16T00:09:15.844Z"
   },
   {
    "duration": 49,
    "start_time": "2024-08-16T00:09:15.866Z"
   },
   {
    "duration": 21,
    "start_time": "2024-08-16T00:09:15.918Z"
   },
   {
    "duration": 20,
    "start_time": "2024-08-16T00:09:15.942Z"
   },
   {
    "duration": 46,
    "start_time": "2024-08-16T00:09:15.966Z"
   },
   {
    "duration": 156,
    "start_time": "2024-08-16T00:09:16.014Z"
   },
   {
    "duration": 45,
    "start_time": "2024-08-16T00:09:16.175Z"
   },
   {
    "duration": 146,
    "start_time": "2024-08-16T00:09:16.223Z"
   },
   {
    "duration": 64,
    "start_time": "2024-08-16T00:09:16.372Z"
   },
   {
    "duration": 332,
    "start_time": "2024-08-16T21:46:27.730Z"
   },
   {
    "duration": 1268,
    "start_time": "2024-08-16T21:46:41.687Z"
   },
   {
    "duration": 825,
    "start_time": "2024-08-16T21:46:42.959Z"
   },
   {
    "duration": 49,
    "start_time": "2024-08-16T21:46:43.787Z"
   },
   {
    "duration": 39,
    "start_time": "2024-08-16T21:46:43.838Z"
   },
   {
    "duration": 166,
    "start_time": "2024-08-16T21:46:43.881Z"
   },
   {
    "duration": 120,
    "start_time": "2024-08-16T21:46:44.051Z"
   },
   {
    "duration": 6,
    "start_time": "2024-08-16T21:46:44.174Z"
   },
   {
    "duration": 43,
    "start_time": "2024-08-16T21:46:44.184Z"
   },
   {
    "duration": 181,
    "start_time": "2024-08-16T21:46:44.230Z"
   },
   {
    "duration": 137,
    "start_time": "2024-08-16T21:49:12.969Z"
   },
   {
    "duration": 98,
    "start_time": "2024-08-16T21:50:34.817Z"
   },
   {
    "duration": 55649,
    "start_time": "2024-08-16T21:52:31.382Z"
   },
   {
    "duration": 507,
    "start_time": "2024-08-16T22:07:05.304Z"
   },
   {
    "duration": 45,
    "start_time": "2024-08-16T22:07:06.910Z"
   },
   {
    "duration": 1234,
    "start_time": "2024-08-16T22:07:12.555Z"
   },
   {
    "duration": 730,
    "start_time": "2024-08-16T22:07:13.792Z"
   },
   {
    "duration": 41,
    "start_time": "2024-08-16T22:07:14.524Z"
   },
   {
    "duration": 61,
    "start_time": "2024-08-16T22:07:14.569Z"
   },
   {
    "duration": 153,
    "start_time": "2024-08-16T22:07:14.632Z"
   },
   {
    "duration": 124,
    "start_time": "2024-08-16T22:07:14.787Z"
   },
   {
    "duration": 13,
    "start_time": "2024-08-16T22:07:14.914Z"
   },
   {
    "duration": 18,
    "start_time": "2024-08-16T22:07:14.930Z"
   },
   {
    "duration": 203,
    "start_time": "2024-08-16T22:07:14.952Z"
   },
   {
    "duration": 99,
    "start_time": "2024-08-16T22:07:15.159Z"
   },
   {
    "duration": 54905,
    "start_time": "2024-08-16T22:07:15.261Z"
   },
   {
    "duration": 474,
    "start_time": "2024-08-16T22:08:10.169Z"
   },
   {
    "duration": 113,
    "start_time": "2024-08-16T22:16:43.356Z"
   },
   {
    "duration": 28,
    "start_time": "2024-08-16T22:22:01.799Z"
   },
   {
    "duration": 1571,
    "start_time": "2024-08-16T22:22:12.058Z"
   },
   {
    "duration": 20,
    "start_time": "2024-08-16T22:23:04.232Z"
   },
   {
    "duration": 1257,
    "start_time": "2024-08-16T22:23:48.093Z"
   },
   {
    "duration": 736,
    "start_time": "2024-08-16T22:23:49.353Z"
   },
   {
    "duration": 52,
    "start_time": "2024-08-16T22:23:50.091Z"
   },
   {
    "duration": 37,
    "start_time": "2024-08-16T22:23:50.148Z"
   },
   {
    "duration": 162,
    "start_time": "2024-08-16T22:23:50.188Z"
   },
   {
    "duration": 125,
    "start_time": "2024-08-16T22:23:50.353Z"
   },
   {
    "duration": 6,
    "start_time": "2024-08-16T22:23:50.481Z"
   },
   {
    "duration": 35,
    "start_time": "2024-08-16T22:23:50.491Z"
   },
   {
    "duration": 199,
    "start_time": "2024-08-16T22:23:50.529Z"
   },
   {
    "duration": 104,
    "start_time": "2024-08-16T22:23:50.733Z"
   },
   {
    "duration": 54586,
    "start_time": "2024-08-16T22:23:50.840Z"
   },
   {
    "duration": 480,
    "start_time": "2024-08-16T22:24:45.429Z"
   },
   {
    "duration": 118,
    "start_time": "2024-08-16T22:24:45.913Z"
   },
   {
    "duration": 20,
    "start_time": "2024-08-16T22:24:46.034Z"
   },
   {
    "duration": 88,
    "start_time": "2024-08-16T22:24:46.058Z"
   },
   {
    "duration": 1319,
    "start_time": "2024-08-16T22:29:18.136Z"
   },
   {
    "duration": 755,
    "start_time": "2024-08-16T22:29:19.460Z"
   },
   {
    "duration": 46,
    "start_time": "2024-08-16T22:29:20.218Z"
   },
   {
    "duration": 60,
    "start_time": "2024-08-16T22:29:20.268Z"
   },
   {
    "duration": 152,
    "start_time": "2024-08-16T22:29:20.332Z"
   },
   {
    "duration": 124,
    "start_time": "2024-08-16T22:29:20.487Z"
   },
   {
    "duration": 14,
    "start_time": "2024-08-16T22:29:20.613Z"
   },
   {
    "duration": 19,
    "start_time": "2024-08-16T22:29:20.630Z"
   },
   {
    "duration": 190,
    "start_time": "2024-08-16T22:29:20.653Z"
   },
   {
    "duration": 103,
    "start_time": "2024-08-16T22:29:20.848Z"
   },
   {
    "duration": 54993,
    "start_time": "2024-08-16T22:29:20.954Z"
   },
   {
    "duration": 486,
    "start_time": "2024-08-16T22:30:15.949Z"
   },
   {
    "duration": 124,
    "start_time": "2024-08-16T22:30:16.439Z"
   },
   {
    "duration": 22,
    "start_time": "2024-08-16T22:30:16.566Z"
   },
   {
    "duration": 85,
    "start_time": "2024-08-16T22:30:16.591Z"
   },
   {
    "duration": 623,
    "start_time": "2024-08-16T22:30:16.679Z"
   },
   {
    "duration": 15257,
    "start_time": "2024-08-16T22:30:17.305Z"
   },
   {
    "duration": 6896,
    "start_time": "2024-08-16T22:31:39.349Z"
   },
   {
    "duration": 1260,
    "start_time": "2024-08-16T22:34:56.201Z"
   },
   {
    "duration": 761,
    "start_time": "2024-08-16T22:34:57.465Z"
   },
   {
    "duration": 45,
    "start_time": "2024-08-16T22:34:58.234Z"
   },
   {
    "duration": 52,
    "start_time": "2024-08-16T22:34:58.282Z"
   },
   {
    "duration": 157,
    "start_time": "2024-08-16T22:34:58.340Z"
   },
   {
    "duration": 138,
    "start_time": "2024-08-16T22:34:58.501Z"
   },
   {
    "duration": 6,
    "start_time": "2024-08-16T22:34:58.651Z"
   },
   {
    "duration": 19,
    "start_time": "2024-08-16T22:34:58.660Z"
   },
   {
    "duration": 187,
    "start_time": "2024-08-16T22:34:58.682Z"
   },
   {
    "duration": 109,
    "start_time": "2024-08-16T22:34:58.872Z"
   },
   {
    "duration": 56203,
    "start_time": "2024-08-16T22:34:58.984Z"
   },
   {
    "duration": 485,
    "start_time": "2024-08-16T22:35:55.190Z"
   },
   {
    "duration": 122,
    "start_time": "2024-08-16T22:35:55.678Z"
   },
   {
    "duration": 47,
    "start_time": "2024-08-16T22:35:55.806Z"
   },
   {
    "duration": 65,
    "start_time": "2024-08-16T22:35:55.857Z"
   },
   {
    "duration": 653,
    "start_time": "2024-08-16T22:35:55.925Z"
   },
   {
    "duration": 15478,
    "start_time": "2024-08-16T22:35:56.581Z"
   },
   {
    "duration": 7053,
    "start_time": "2024-08-16T22:36:12.064Z"
   },
   {
    "duration": 1267,
    "start_time": "2024-08-16T22:37:06.306Z"
   },
   {
    "duration": 735,
    "start_time": "2024-08-16T22:37:07.577Z"
   },
   {
    "duration": 49,
    "start_time": "2024-08-16T22:37:08.315Z"
   },
   {
    "duration": 39,
    "start_time": "2024-08-16T22:37:08.366Z"
   },
   {
    "duration": 160,
    "start_time": "2024-08-16T22:37:08.429Z"
   },
   {
    "duration": 125,
    "start_time": "2024-08-16T22:37:08.591Z"
   },
   {
    "duration": 11,
    "start_time": "2024-08-16T22:37:08.718Z"
   },
   {
    "duration": 19,
    "start_time": "2024-08-16T22:37:08.732Z"
   },
   {
    "duration": 220,
    "start_time": "2024-08-16T22:37:08.755Z"
   },
   {
    "duration": 98,
    "start_time": "2024-08-16T22:37:08.978Z"
   },
   {
    "duration": 54462,
    "start_time": "2024-08-16T22:37:09.079Z"
   },
   {
    "duration": 498,
    "start_time": "2024-08-16T22:38:03.543Z"
   },
   {
    "duration": 117,
    "start_time": "2024-08-16T22:38:04.043Z"
   },
   {
    "duration": 21,
    "start_time": "2024-08-16T22:38:04.165Z"
   },
   {
    "duration": 88,
    "start_time": "2024-08-16T22:38:04.189Z"
   },
   {
    "duration": 669,
    "start_time": "2024-08-16T22:38:04.280Z"
   },
   {
    "duration": 15375,
    "start_time": "2024-08-16T22:38:04.951Z"
   },
   {
    "duration": 6984,
    "start_time": "2024-08-16T22:38:20.328Z"
   },
   {
    "duration": 1262,
    "start_time": "2024-08-16T22:45:28.357Z"
   },
   {
    "duration": 743,
    "start_time": "2024-08-16T22:45:29.625Z"
   },
   {
    "duration": 55,
    "start_time": "2024-08-16T22:45:30.371Z"
   },
   {
    "duration": 40,
    "start_time": "2024-08-16T22:45:30.428Z"
   },
   {
    "duration": 165,
    "start_time": "2024-08-16T22:45:30.472Z"
   },
   {
    "duration": 129,
    "start_time": "2024-08-16T22:45:30.640Z"
   },
   {
    "duration": 7,
    "start_time": "2024-08-16T22:45:30.772Z"
   },
   {
    "duration": 18,
    "start_time": "2024-08-16T22:45:30.783Z"
   },
   {
    "duration": 182,
    "start_time": "2024-08-16T22:45:30.827Z"
   },
   {
    "duration": 116,
    "start_time": "2024-08-16T22:45:31.011Z"
   },
   {
    "duration": 54562,
    "start_time": "2024-08-16T22:45:31.130Z"
   },
   {
    "duration": 492,
    "start_time": "2024-08-16T22:46:25.694Z"
   },
   {
    "duration": 119,
    "start_time": "2024-08-16T22:46:26.189Z"
   },
   {
    "duration": 30,
    "start_time": "2024-08-16T22:46:26.313Z"
   },
   {
    "duration": 83,
    "start_time": "2024-08-16T22:46:26.345Z"
   },
   {
    "duration": 626,
    "start_time": "2024-08-16T22:46:26.431Z"
   },
   {
    "duration": 15265,
    "start_time": "2024-08-16T22:46:27.061Z"
   },
   {
    "duration": 6925,
    "start_time": "2024-08-16T22:46:42.330Z"
   },
   {
    "duration": 123138,
    "start_time": "2024-08-16T22:46:49.259Z"
   },
   {
    "duration": 1237,
    "start_time": "2024-08-16T22:49:58.365Z"
   },
   {
    "duration": 731,
    "start_time": "2024-08-16T22:49:59.605Z"
   },
   {
    "duration": 43,
    "start_time": "2024-08-16T22:50:00.339Z"
   },
   {
    "duration": 63,
    "start_time": "2024-08-16T22:50:00.387Z"
   },
   {
    "duration": 148,
    "start_time": "2024-08-16T22:50:00.454Z"
   },
   {
    "duration": 127,
    "start_time": "2024-08-16T22:50:00.605Z"
   },
   {
    "duration": 6,
    "start_time": "2024-08-16T22:50:00.735Z"
   },
   {
    "duration": 20,
    "start_time": "2024-08-16T22:50:00.744Z"
   },
   {
    "duration": 210,
    "start_time": "2024-08-16T22:50:00.768Z"
   },
   {
    "duration": 103,
    "start_time": "2024-08-16T22:50:00.983Z"
   },
   {
    "duration": 55359,
    "start_time": "2024-08-16T22:50:01.088Z"
   },
   {
    "duration": 501,
    "start_time": "2024-08-16T22:50:56.450Z"
   },
   {
    "duration": 123,
    "start_time": "2024-08-16T22:50:56.954Z"
   },
   {
    "duration": 22,
    "start_time": "2024-08-16T22:50:57.080Z"
   },
   {
    "duration": 85,
    "start_time": "2024-08-16T22:50:57.105Z"
   },
   {
    "duration": 675,
    "start_time": "2024-08-16T22:50:57.193Z"
   },
   {
    "duration": 15456,
    "start_time": "2024-08-16T22:50:57.870Z"
   },
   {
    "duration": 6952,
    "start_time": "2024-08-16T22:51:13.329Z"
   },
   {
    "duration": 424222,
    "start_time": "2024-08-16T22:51:20.284Z"
   },
   {
    "duration": 1371,
    "start_time": "2024-08-16T23:02:38.762Z"
   },
   {
    "duration": 940,
    "start_time": "2024-08-16T23:02:40.136Z"
   },
   {
    "duration": 55,
    "start_time": "2024-08-16T23:02:41.079Z"
   },
   {
    "duration": 40,
    "start_time": "2024-08-16T23:02:41.139Z"
   },
   {
    "duration": 166,
    "start_time": "2024-08-16T23:02:41.182Z"
   },
   {
    "duration": 131,
    "start_time": "2024-08-16T23:02:41.354Z"
   },
   {
    "duration": 10,
    "start_time": "2024-08-16T23:02:41.488Z"
   },
   {
    "duration": 43,
    "start_time": "2024-08-16T23:02:41.501Z"
   },
   {
    "duration": 190,
    "start_time": "2024-08-16T23:02:41.548Z"
   },
   {
    "duration": 118,
    "start_time": "2024-08-16T23:02:41.744Z"
   },
   {
    "duration": 58760,
    "start_time": "2024-08-16T23:02:41.866Z"
   },
   {
    "duration": 495,
    "start_time": "2024-08-16T23:03:40.629Z"
   },
   {
    "duration": 126,
    "start_time": "2024-08-16T23:03:41.128Z"
   },
   {
    "duration": 26,
    "start_time": "2024-08-16T23:03:41.257Z"
   },
   {
    "duration": 94,
    "start_time": "2024-08-16T23:03:41.288Z"
   },
   {
    "duration": 731,
    "start_time": "2024-08-16T23:03:41.386Z"
   },
   {
    "duration": 16917,
    "start_time": "2024-08-16T23:03:42.120Z"
   },
   {
    "duration": 7473,
    "start_time": "2024-08-16T23:03:59.042Z"
   },
   {
    "duration": 1319,
    "start_time": "2024-08-19T21:11:20.574Z"
   },
   {
    "duration": 783,
    "start_time": "2024-08-19T21:11:21.898Z"
   },
   {
    "duration": 53,
    "start_time": "2024-08-19T21:11:22.684Z"
   },
   {
    "duration": 38,
    "start_time": "2024-08-19T21:11:22.740Z"
   },
   {
    "duration": 165,
    "start_time": "2024-08-19T21:11:22.784Z"
   },
   {
    "duration": 124,
    "start_time": "2024-08-19T21:11:22.951Z"
   },
   {
    "duration": 7,
    "start_time": "2024-08-19T21:11:23.079Z"
   },
   {
    "duration": 20,
    "start_time": "2024-08-19T21:11:23.089Z"
   },
   {
    "duration": 181,
    "start_time": "2024-08-19T21:11:23.134Z"
   },
   {
    "duration": 137,
    "start_time": "2024-08-19T21:11:23.318Z"
   },
   {
    "duration": 55757,
    "start_time": "2024-08-19T21:11:23.458Z"
   },
   {
    "duration": 470,
    "start_time": "2024-08-19T21:12:19.217Z"
   },
   {
    "duration": 125,
    "start_time": "2024-08-19T21:12:19.690Z"
   },
   {
    "duration": 24,
    "start_time": "2024-08-19T21:12:19.822Z"
   },
   {
    "duration": 83,
    "start_time": "2024-08-19T21:12:19.849Z"
   },
   {
    "duration": 625,
    "start_time": "2024-08-19T21:12:19.935Z"
   },
   {
    "duration": 16376,
    "start_time": "2024-08-19T21:12:20.563Z"
   },
   {
    "duration": 7086,
    "start_time": "2024-08-19T21:12:36.942Z"
   },
   {
    "duration": 421867,
    "start_time": "2024-08-19T21:12:44.034Z"
   },
   {
    "duration": 1341,
    "start_time": "2024-08-19T21:26:53.637Z"
   },
   {
    "duration": 858,
    "start_time": "2024-08-19T21:26:54.983Z"
   },
   {
    "duration": 41,
    "start_time": "2024-08-19T21:26:55.844Z"
   },
   {
    "duration": 69,
    "start_time": "2024-08-19T21:26:55.888Z"
   },
   {
    "duration": 156,
    "start_time": "2024-08-19T21:26:55.962Z"
   },
   {
    "duration": 153,
    "start_time": "2024-08-19T21:26:56.132Z"
   },
   {
    "duration": 7,
    "start_time": "2024-08-19T21:26:56.290Z"
   },
   {
    "duration": 38,
    "start_time": "2024-08-19T21:26:56.300Z"
   },
   {
    "duration": 205,
    "start_time": "2024-08-19T21:26:56.341Z"
   },
   {
    "duration": 112,
    "start_time": "2024-08-19T21:26:56.551Z"
   },
   {
    "duration": 54696,
    "start_time": "2024-08-19T21:26:56.666Z"
   },
   {
    "duration": 486,
    "start_time": "2024-08-19T21:27:51.368Z"
   },
   {
    "duration": 118,
    "start_time": "2024-08-19T21:27:51.856Z"
   },
   {
    "duration": 20,
    "start_time": "2024-08-19T21:27:51.979Z"
   },
   {
    "duration": 90,
    "start_time": "2024-08-19T21:27:52.003Z"
   },
   {
    "duration": 646,
    "start_time": "2024-08-19T21:27:52.096Z"
   },
   {
    "duration": 15229,
    "start_time": "2024-08-19T21:27:52.745Z"
   },
   {
    "duration": 6956,
    "start_time": "2024-08-19T21:28:07.977Z"
   },
   {
    "duration": 418233,
    "start_time": "2024-08-19T21:28:14.936Z"
   },
   {
    "duration": 312,
    "start_time": "2024-08-19T21:50:45.564Z"
   },
   {
    "duration": 1294,
    "start_time": "2024-08-19T21:51:15.913Z"
   },
   {
    "duration": 787,
    "start_time": "2024-08-19T21:51:17.210Z"
   },
   {
    "duration": 55,
    "start_time": "2024-08-19T21:51:18.000Z"
   },
   {
    "duration": 39,
    "start_time": "2024-08-19T21:51:18.060Z"
   },
   {
    "duration": 164,
    "start_time": "2024-08-19T21:51:18.103Z"
   },
   {
    "duration": 126,
    "start_time": "2024-08-19T21:51:18.270Z"
   },
   {
    "duration": 8,
    "start_time": "2024-08-19T21:51:18.398Z"
   },
   {
    "duration": 35,
    "start_time": "2024-08-19T21:51:18.409Z"
   },
   {
    "duration": 191,
    "start_time": "2024-08-19T21:51:18.446Z"
   },
   {
    "duration": 109,
    "start_time": "2024-08-19T21:51:18.643Z"
   },
   {
    "duration": 55608,
    "start_time": "2024-08-19T21:51:18.754Z"
   },
   {
    "duration": 470,
    "start_time": "2024-08-19T21:52:14.365Z"
   },
   {
    "duration": 124,
    "start_time": "2024-08-19T21:52:14.838Z"
   },
   {
    "duration": 22,
    "start_time": "2024-08-19T21:52:14.966Z"
   },
   {
    "duration": 91,
    "start_time": "2024-08-19T21:52:14.992Z"
   },
   {
    "duration": 627,
    "start_time": "2024-08-19T21:52:15.086Z"
   },
   {
    "duration": 15323,
    "start_time": "2024-08-19T21:52:15.715Z"
   },
   {
    "duration": 7117,
    "start_time": "2024-08-19T21:52:31.041Z"
   },
   {
    "duration": 422976,
    "start_time": "2024-08-19T21:52:38.161Z"
   },
   {
    "duration": 1316,
    "start_time": "2024-08-19T23:00:24.742Z"
   },
   {
    "duration": 786,
    "start_time": "2024-08-19T23:00:26.062Z"
   },
   {
    "duration": 42,
    "start_time": "2024-08-19T23:00:26.850Z"
   },
   {
    "duration": 59,
    "start_time": "2024-08-19T23:00:26.895Z"
   },
   {
    "duration": 156,
    "start_time": "2024-08-19T23:00:26.957Z"
   },
   {
    "duration": 138,
    "start_time": "2024-08-19T23:00:27.116Z"
   },
   {
    "duration": 8,
    "start_time": "2024-08-19T23:00:27.257Z"
   },
   {
    "duration": 18,
    "start_time": "2024-08-19T23:00:27.268Z"
   },
   {
    "duration": 199,
    "start_time": "2024-08-19T23:00:27.289Z"
   },
   {
    "duration": 115,
    "start_time": "2024-08-19T23:00:27.494Z"
   },
   {
    "duration": 55263,
    "start_time": "2024-08-19T23:00:27.612Z"
   },
   {
    "duration": 475,
    "start_time": "2024-08-19T23:01:22.878Z"
   },
   {
    "duration": 126,
    "start_time": "2024-08-19T23:01:23.357Z"
   },
   {
    "duration": 21,
    "start_time": "2024-08-19T23:01:23.486Z"
   },
   {
    "duration": 86,
    "start_time": "2024-08-19T23:01:23.509Z"
   },
   {
    "duration": 628,
    "start_time": "2024-08-19T23:01:23.598Z"
   },
   {
    "duration": 15604,
    "start_time": "2024-08-19T23:01:24.233Z"
   },
   {
    "duration": 6931,
    "start_time": "2024-08-19T23:01:39.839Z"
   },
   {
    "duration": 323,
    "start_time": "2024-08-22T22:13:27.108Z"
   },
   {
    "duration": 1285,
    "start_time": "2024-08-22T22:13:35.617Z"
   },
   {
    "duration": 789,
    "start_time": "2024-08-22T22:13:36.905Z"
   },
   {
    "duration": 48,
    "start_time": "2024-08-22T22:13:37.697Z"
   },
   {
    "duration": 38,
    "start_time": "2024-08-22T22:13:37.748Z"
   },
   {
    "duration": 146,
    "start_time": "2024-08-22T22:13:37.814Z"
   },
   {
    "duration": 127,
    "start_time": "2024-08-22T22:13:37.964Z"
   },
   {
    "duration": 18,
    "start_time": "2024-08-22T22:13:38.094Z"
   },
   {
    "duration": 18,
    "start_time": "2024-08-22T22:13:38.115Z"
   },
   {
    "duration": 196,
    "start_time": "2024-08-22T22:13:38.136Z"
   },
   {
    "duration": 99,
    "start_time": "2024-08-22T22:13:38.336Z"
   },
   {
    "duration": 55290,
    "start_time": "2024-08-22T22:13:38.438Z"
   },
   {
    "duration": 492,
    "start_time": "2024-08-22T22:14:33.731Z"
   },
   {
    "duration": 120,
    "start_time": "2024-08-22T22:14:34.225Z"
   },
   {
    "duration": 19,
    "start_time": "2024-08-22T22:14:34.351Z"
   },
   {
    "duration": 1570,
    "start_time": "2024-08-22T22:14:34.373Z"
   },
   {
    "duration": 76,
    "start_time": "2024-08-22T22:14:35.946Z"
   },
   {
    "duration": 623,
    "start_time": "2024-08-22T22:14:36.025Z"
   },
   {
    "duration": 15196,
    "start_time": "2024-08-22T22:14:36.651Z"
   },
   {
    "duration": 6878,
    "start_time": "2024-08-22T22:14:51.851Z"
   },
   {
    "duration": 419610,
    "start_time": "2024-08-22T22:14:58.732Z"
   },
   {
    "duration": 309,
    "start_time": "2024-08-22T22:31:29.533Z"
   },
   {
    "duration": 1304,
    "start_time": "2024-08-22T22:31:49.823Z"
   },
   {
    "duration": 788,
    "start_time": "2024-08-22T22:31:51.131Z"
   },
   {
    "duration": 41,
    "start_time": "2024-08-22T22:31:51.922Z"
   },
   {
    "duration": 57,
    "start_time": "2024-08-22T22:31:51.967Z"
   },
   {
    "duration": 155,
    "start_time": "2024-08-22T22:31:52.028Z"
   },
   {
    "duration": 116,
    "start_time": "2024-08-22T22:31:52.186Z"
   },
   {
    "duration": 10,
    "start_time": "2024-08-22T22:31:52.305Z"
   },
   {
    "duration": 18,
    "start_time": "2024-08-22T22:31:52.318Z"
   },
   {
    "duration": 206,
    "start_time": "2024-08-22T22:31:52.339Z"
   },
   {
    "duration": 102,
    "start_time": "2024-08-22T22:31:52.551Z"
   },
   {
    "duration": 55560,
    "start_time": "2024-08-22T22:31:52.656Z"
   },
   {
    "duration": 472,
    "start_time": "2024-08-22T22:32:48.219Z"
   },
   {
    "duration": 119,
    "start_time": "2024-08-22T22:32:48.693Z"
   },
   {
    "duration": 21,
    "start_time": "2024-08-22T22:32:48.815Z"
   },
   {
    "duration": 1537,
    "start_time": "2024-08-22T22:32:48.839Z"
   },
   {
    "duration": 81,
    "start_time": "2024-08-22T22:32:50.380Z"
   },
   {
    "duration": 630,
    "start_time": "2024-08-22T22:32:50.463Z"
   },
   {
    "duration": 504,
    "start_time": "2024-08-22T22:32:51.095Z"
   },
   {
    "duration": 11211,
    "start_time": "2024-08-22T22:32:51.602Z"
   },
   {
    "duration": 5090,
    "start_time": "2024-08-22T22:33:02.815Z"
   },
   {
    "duration": 311814,
    "start_time": "2024-08-22T22:33:07.914Z"
   },
   {
    "duration": 4600,
    "start_time": "2024-08-22T22:38:19.731Z"
   },
   {
    "duration": 324,
    "start_time": "2024-08-22T22:41:27.465Z"
   },
   {
    "duration": 1281,
    "start_time": "2024-08-22T22:41:56.252Z"
   },
   {
    "duration": 770,
    "start_time": "2024-08-22T22:41:57.537Z"
   },
   {
    "duration": 41,
    "start_time": "2024-08-22T22:41:58.311Z"
   },
   {
    "duration": 59,
    "start_time": "2024-08-22T22:41:58.355Z"
   },
   {
    "duration": 150,
    "start_time": "2024-08-22T22:41:58.419Z"
   },
   {
    "duration": 127,
    "start_time": "2024-08-22T22:41:58.572Z"
   },
   {
    "duration": 12,
    "start_time": "2024-08-22T22:41:58.702Z"
   },
   {
    "duration": 18,
    "start_time": "2024-08-22T22:41:58.716Z"
   },
   {
    "duration": 201,
    "start_time": "2024-08-22T22:41:58.737Z"
   },
   {
    "duration": 104,
    "start_time": "2024-08-22T22:41:58.941Z"
   },
   {
    "duration": 53670,
    "start_time": "2024-08-22T22:41:59.047Z"
   },
   {
    "duration": 488,
    "start_time": "2024-08-22T22:42:52.719Z"
   },
   {
    "duration": 123,
    "start_time": "2024-08-22T22:42:53.210Z"
   },
   {
    "duration": 23,
    "start_time": "2024-08-22T22:42:53.338Z"
   },
   {
    "duration": 1626,
    "start_time": "2024-08-22T22:42:53.365Z"
   },
   {
    "duration": 72,
    "start_time": "2024-08-22T22:42:54.994Z"
   },
   {
    "duration": 638,
    "start_time": "2024-08-22T22:42:55.069Z"
   },
   {
    "duration": 508,
    "start_time": "2024-08-22T22:42:55.713Z"
   },
   {
    "duration": 11490,
    "start_time": "2024-08-22T22:42:56.223Z"
   },
   {
    "duration": 5006,
    "start_time": "2024-08-22T22:43:07.722Z"
   },
   {
    "duration": 307527,
    "start_time": "2024-08-22T22:43:12.730Z"
   },
   {
    "duration": 4862,
    "start_time": "2024-08-22T22:48:20.259Z"
   },
   {
    "duration": 1286,
    "start_time": "2024-08-22T22:50:04.629Z"
   },
   {
    "duration": 775,
    "start_time": "2024-08-22T22:50:05.918Z"
   },
   {
    "duration": 49,
    "start_time": "2024-08-22T22:50:06.696Z"
   },
   {
    "duration": 40,
    "start_time": "2024-08-22T22:50:06.749Z"
   },
   {
    "duration": 146,
    "start_time": "2024-08-22T22:50:06.812Z"
   },
   {
    "duration": 123,
    "start_time": "2024-08-22T22:50:06.961Z"
   },
   {
    "duration": 6,
    "start_time": "2024-08-22T22:50:07.087Z"
   },
   {
    "duration": 30,
    "start_time": "2024-08-22T22:50:07.097Z"
   },
   {
    "duration": 194,
    "start_time": "2024-08-22T22:50:07.130Z"
   },
   {
    "duration": 113,
    "start_time": "2024-08-22T22:50:07.331Z"
   }
  ],
  "kernelspec": {
   "display_name": "Python 3 (ipykernel)",
   "language": "python",
   "name": "python3"
  },
  "language_info": {
   "codemirror_mode": {
    "name": "ipython",
    "version": 3
   },
   "file_extension": ".py",
   "mimetype": "text/x-python",
   "name": "python",
   "nbconvert_exporter": "python",
   "pygments_lexer": "ipython3",
   "version": "3.9.19"
  },
  "toc": {
   "base_numbering": 1,
   "nav_menu": {},
   "number_sections": true,
   "sideBar": true,
   "skip_h1_title": true,
   "title_cell": "Table of Contents",
   "title_sidebar": "Contents",
   "toc_cell": false,
   "toc_position": {},
   "toc_section_display": true,
   "toc_window_display": false
  }
 },
 "nbformat": 4,
 "nbformat_minor": 2
}
